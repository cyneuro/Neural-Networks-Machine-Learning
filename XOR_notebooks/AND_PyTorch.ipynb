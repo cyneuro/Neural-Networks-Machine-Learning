{
  "cells": [
    {
      "cell_type": "markdown",
      "source": [
        "https://brilliant.org/wiki/backpropagation/"
      ],
      "metadata": {
        "id": "LwgeRHVBB0gy"
      }
    },
    {
      "cell_type": "markdown",
      "source": [
        "Absolutely simplest back propagation example (version 2) https://www.youtube.com/watch?v=8d6jf7s6_Qs\n",
        "\n",
        "A worked example with more neurons - https://www.youtube.com/watch?v=n2L1J5JYgUk"
      ],
      "metadata": {
        "id": "FG41LtB1FuTt"
      }
    },
    {
      "cell_type": "markdown",
      "source": [
        "EXAMPLE OF AN XOR NETWORK - 2 neurons (input) in layer 1 and 1 neuron (output) in layer 2\n",
        "See \"Helpful Tips\" at the end of the notebook"
      ],
      "metadata": {
        "id": "EvV5yiNUbCzm"
      }
    },
    {
      "cell_type": "code",
      "execution_count": null,
      "metadata": {
        "id": "NziucDl6yuoW",
        "colab": {
          "base_uri": "https://localhost:8080/"
        },
        "outputId": "c1c5da5b-b14d-45d0-ca9f-c52e41054f03"
      },
      "outputs": [
        {
          "output_type": "execute_result",
          "data": {
            "text/plain": [
              "<torch._C.Generator at 0x7f4b24358730>"
            ]
          },
          "metadata": {},
          "execution_count": 11
        }
      ],
      "source": [
        "import torch\n",
        "import torch.nn as nn\n",
        "import torch.optim as optim\n",
        "import numpy as np\n",
        "import matplotlib.pyplot as plt\n",
        "\n",
        "torch.manual_seed(2)"
      ]
    },
    {
      "cell_type": "markdown",
      "source": [
        "DATA (input and output for this supervised learning problem)"
      ],
      "metadata": {
        "id": "CgYNy37VIn00"
      }
    },
    {
      "cell_type": "code",
      "execution_count": null,
      "metadata": {
        "id": "rXjDBsiOy8lV"
      },
      "outputs": [],
      "source": [
        "X = torch.Tensor([[0,0],[0,1], [1,0], [1,1]])\n",
        "Y = torch.Tensor([0,0,0,1]).view(-1,1)"
      ]
    },
    {
      "cell_type": "markdown",
      "source": [
        "HYPOTHESIS/MODEL"
      ],
      "metadata": {
        "id": "-uuARj4AyHot"
      }
    },
    {
      "cell_type": "code",
      "execution_count": null,
      "metadata": {
        "id": "Qwl3sHRnzDQQ"
      },
      "outputs": [],
      "source": [
        "class AND(nn.Module):\n",
        "    def __init__(self, input_dim = 2, output_dim=1):\n",
        "        # Initialize attributes and methods of the parent class nn.Module\n",
        "        super(AND, self).__init__()\n",
        "\n",
        "        # Initialize layers\n",
        "        self.lin1 = nn.Linear(input_dim, output_dim)\n",
        "        #self.lin2 = nn.Linear(2, output_dim)\n",
        "\n",
        "    # Each custom torch class (inherited from nn.Module) has to have a forward() method\n",
        "    def forward(self, x):\n",
        "        x = self.lin1(x)\n",
        "        x = torch.sigmoid(x)\n",
        "        #x = self.lin2(x)\n",
        "        return x"
      ]
    },
    {
      "cell_type": "code",
      "execution_count": null,
      "metadata": {
        "id": "IXcZnxYRzJ58"
      },
      "outputs": [],
      "source": [
        "model = AND()"
      ]
    },
    {
      "cell_type": "code",
      "execution_count": null,
      "metadata": {
        "id": "lIgvHHsszLo1",
        "colab": {
          "base_uri": "https://localhost:8080/"
        },
        "outputId": "df41ba74-6639-4b37-f1ce-8e2466ae52fd"
      },
      "outputs": [
        {
          "output_type": "stream",
          "name": "stdout",
          "text": [
            "[AND(\n",
            "  (lin1): Linear(in_features=2, out_features=1, bias=True)\n",
            "), Linear(in_features=2, out_features=1, bias=True)]\n"
          ]
        }
      ],
      "source": [
        "def weights_init(model):\n",
        "    print(list(model.modules())) # network from above printed out\n",
        "    for m in model.modules():\n",
        "        if isinstance(m, nn.Linear):\n",
        "            # initialize the weight tensor, here we use a normal distribution\n",
        "            m.weight.data.normal_(0, 1)\n",
        "            m.bias.data.normal_(0, 1)\n",
        "\n",
        "weights_init(model) # may not be needed but used to show the idea"
      ]
    },
    {
      "cell_type": "markdown",
      "source": [
        "COST or LOSS FUNCTION"
      ],
      "metadata": {
        "id": "nkeust3zyYwU"
      }
    },
    {
      "cell_type": "code",
      "execution_count": null,
      "metadata": {
        "id": "yqkxJx0CzPce"
      },
      "outputs": [],
      "source": [
        "loss_func = nn.MSELoss()"
      ]
    },
    {
      "cell_type": "markdown",
      "source": [
        "UPDATE RULE"
      ],
      "metadata": {
        "id": "uOl_E8OmycFd"
      }
    },
    {
      "cell_type": "code",
      "execution_count": null,
      "metadata": {
        "id": "zC-ffgFPzTb5"
      },
      "outputs": [],
      "source": [
        "optimizer = optim.SGD(model.parameters(), lr=0.02, momentum=0.9) # Another popular optimizer is ADAM"
      ]
    },
    {
      "cell_type": "markdown",
      "source": [
        "SETTING IT ALL UP"
      ],
      "metadata": {
        "id": "KAX8FpUMyg1-"
      }
    },
    {
      "cell_type": "code",
      "execution_count": null,
      "metadata": {
        "id": "wB8zkbQEzXyo",
        "colab": {
          "base_uri": "https://localhost:8080/"
        },
        "outputId": "63287914-42b7-498e-e1b9-7a76e263c0bb"
      },
      "outputs": [
        {
          "output_type": "stream",
          "name": "stdout",
          "text": [
            "First epoch gradients:\n",
            "--------------------\n",
            "\n",
            ">> Step 0:\n",
            "lin1.weight: Parameter containing:\n",
            "tensor([[ 0.6926, -2.3659]], requires_grad=True)\n",
            "lin1.bias: Parameter containing:\n",
            "tensor([0.1063], requires_grad=True)\n",
            "grad(lin1.weight): tensor([[0.2950, 0.0000]])\n",
            "grad(lin1.bias): tensor([0.2950])\n",
            "\n",
            "\n",
            ">> Step 1:\n",
            "lin1.weight: Parameter containing:\n",
            "tensor([[ 0.6873, -2.3662]], requires_grad=True)\n",
            "lin1.bias: Parameter containing:\n",
            "tensor([0.1007], requires_grad=True)\n",
            "grad(lin1.weight): tensor([[0.0000, 0.0162]])\n",
            "grad(lin1.bias): tensor([0.0162])\n",
            "\n",
            "\n",
            ">> Step 2:\n",
            "lin1.weight: Parameter containing:\n",
            "tensor([[ 0.6825, -2.3668]], requires_grad=True)\n",
            "lin1.bias: Parameter containing:\n",
            "tensor([0.0953], requires_grad=True)\n",
            "grad(lin1.weight): tensor([[0.0000, 0.0160]])\n",
            "grad(lin1.bias): tensor([0.0160])\n",
            "\n",
            "\n",
            ">> Step 3:\n",
            "lin1.weight: Parameter containing:\n",
            "tensor([[ 0.6782, -2.3677]], requires_grad=True)\n",
            "lin1.bias: Parameter containing:\n",
            "tensor([0.0901], requires_grad=True)\n",
            "grad(lin1.weight): tensor([[0.0000, 0.0159]])\n",
            "grad(lin1.bias): tensor([0.0159])\n",
            "\n",
            "\n",
            "\n",
            "Loss History:\n",
            "--------------------\n",
            "Epoch: 0, Loss: 0.008743891492486, \n",
            "Epoch: 500, Loss: 0.023502439260482788, \n",
            "Epoch: 1000, Loss: 0.00871126726269722, \n",
            "Epoch: 1500, Loss: 0.0060920100659132, \n",
            "Epoch: 2000, Loss: 0.0037493272684514523, \n"
          ]
        }
      ],
      "source": [
        "epochs = 2001\n",
        "steps = X.size(0)\n",
        "for i in range(epochs):\n",
        "\n",
        "    for j in range(steps):\n",
        "        data_point = np.random.randint(X.size(0))\n",
        "\n",
        "        optimizer.zero_grad()\n",
        "        y_hat = model(X[data_point])\n",
        "        loss = loss_func.forward(y_hat, Y[data_point]) # loss_func(y_hat, Y[data_point]) also works\n",
        "\n",
        "        loss.backward()\n",
        "        optimizer.step()\n",
        "\n",
        "        if i == 0:\n",
        "            if j == 0:\n",
        "                print(\"First epoch gradients:\\n--------------------\\n\")\n",
        "            print(f\">> Step {j}:\")\n",
        "            print(f\"lin1.weight: {model.lin1.weight}\")\n",
        "            print(f\"lin1.bias: {model.lin1.bias}\")\n",
        "            print(f\"grad(lin1.weight): {model.lin1.weight.grad}\")\n",
        "            print(f\"grad(lin1.bias): {model.lin1.bias.grad}\")\n",
        "            print(\"\\n\")\n",
        "\n",
        "            if j == steps - 1:\n",
        "                print(\"\\nLoss History:\")\n",
        "                print(\"--------------------\")\n",
        "\n",
        "    if i % 500 == 0:\n",
        "         print(\"Epoch: {0}, Loss: {1}, \".format(i, loss.data.numpy()))"
      ]
    },
    {
      "cell_type": "code",
      "execution_count": null,
      "metadata": {
        "id": "auCBHzWf136b",
        "colab": {
          "base_uri": "https://localhost:8080/"
        },
        "outputId": "b09e7f32-710c-4490-ca26-9a33d437e38a"
      },
      "outputs": [
        {
          "output_type": "stream",
          "name": "stdout",
          "text": [
            "[('lin1.weight', Parameter containing:\n",
            "tensor([[5.1780, 5.2139]], requires_grad=True)), ('lin1.bias', Parameter containing:\n",
            "tensor([-7.9089], requires_grad=True))]\n"
          ]
        }
      ],
      "source": [
        "model_params = list(model.named_parameters())\n",
        "print(model_params)\n",
        "model_params = list(model.parameters()) # used to make below cell better"
      ]
    },
    {
      "cell_type": "markdown",
      "source": [
        "USING THE INFO ABOVE, CAN YOU GET THE EQUATIONS OF THE LINES PLOTTED BELOW?"
      ],
      "metadata": {
        "id": "mJxeG6aKy2Gc"
      }
    },
    {
      "cell_type": "code",
      "execution_count": null,
      "metadata": {
        "id": "hdUTc_ji18WA",
        "colab": {
          "base_uri": "https://localhost:8080/",
          "height": 265
        },
        "outputId": "827673bf-6095-4719-b59c-f679ed2ee1b4"
      },
      "outputs": [
        {
          "output_type": "display_data",
          "data": {
            "text/plain": [
              "<Figure size 432x288 with 1 Axes>"
            ],
            "image/png": "[encoded data removed]"
          },
          "metadata": {
            "needs_background": "light"
          }
        }
      ],
      "source": [
        "model_weights = model_params[0].data.numpy()\n",
        "model_bias = model_params[1].data.numpy()\n",
        "\n",
        "plt.scatter(X.numpy()[3, 0], X.numpy()[3, 1], s=50)\n",
        "plt.scatter(X.numpy()[[0, 1,2], 0], X.numpy()[[0, 1, 2], 1], c='red', s=50)\n",
        "\n",
        "# weights(0,0) and (0,1) are from in the (TO,FROM) format,\n",
        "# i.e., to neuron 0(or 1) from input 0(or 1). See Helpful Hints at the end\n",
        "x_1 = np.arange(-0.1, 1.1, 0.1)\n",
        "y_1 = ((x_1 * model_weights[0,0]) + model_bias[0]) / (-model_weights[0,1])\n",
        "plt.plot(x_1, y_1)\n",
        "\n",
        "plt.legend([\"neuron_1\", \"neuron_2\"], loc=8)\n",
        "plt.show()"
      ]
    },
    {
      "cell_type": "markdown",
      "source": [
        "HELPFUL TIPS\n",
        "\n",
        "Documentation - pytorch.org\n",
        "\n",
        "---\n",
        "\n",
        "\n",
        "```\n",
        "x = torch.tensor([[1, 2, 3], [4, 5, 6]])\n",
        "print(x[1][2])\n",
        ">>> tensor(6)\n",
        "```\n",
        "\n",
        "```\n",
        "x[0][1] = 8\n",
        "print(x)\n",
        ">>> tensor([[ 1,  8,  3],\n",
        "            [ 4,  5,  6]])\n",
        "```"
      ],
      "metadata": {
        "id": "LSvsUe1Ka5t9"
      }
    }
  ],
  "metadata": {
    "colab": {
      "provenance": []
    },
    "kernelspec": {
      "display_name": "Python 3",
      "name": "python3"
    },
    "language_info": {
      "codemirror_mode": {
        "name": "ipython",
        "version": 3
      },
      "file_extension": ".py",
      "mimetype": "text/x-python",
      "name": "python",
      "nbconvert_exporter": "python",
      "pygments_lexer": "ipython3",
      "version": "3.8.16"
    },
    "gpuClass": "standard"
  },
  "nbformat": 4,
  "nbformat_minor": 0
}