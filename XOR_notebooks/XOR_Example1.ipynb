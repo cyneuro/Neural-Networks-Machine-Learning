{
  "cells": [
    {
      "cell_type": "markdown",
      "metadata": {
        "id": "rbg8dlM6KlMU"
      },
      "source": [
        "[![Open in Colab](https://colab.research.google.com/assets/colab-badge.svg)](https://colab.research.google.com/github/cyneuro/Neural-Networks-Machine-Learning/blob/master/XOR_notebooks/XOR_Example1.ipynb)"
      ]
    },
    {
      "cell_type": "markdown",
      "metadata": {
        "id": "LwgeRHVBB0gy"
      },
      "source": [
        "https://brilliant.org/wiki/backpropagation/"
      ]
    },
    {
      "cell_type": "markdown",
      "metadata": {
        "id": "FG41LtB1FuTt"
      },
      "source": [
        "Absolutely simplest back propagation example (version 2) https://www.youtube.com/watch?v=8d6jf7s6_Qs\n",
        "\n",
        "A worked example with more neurons - https://www.youtube.com/watch?v=n2L1J5JYgUk"
      ]
    },
    {
      "cell_type": "markdown",
      "metadata": {
        "id": "EvV5yiNUbCzm"
      },
      "source": [
        "EXAMPLE OF AN XOR NETWORK - 2 neurons (input) in layer 1 and 1 neuron (output) in layer 2\n",
        "See \"Helpful Tips\" at the end of the notebook"
      ]
    },
    {
      "cell_type": "code",
      "execution_count": 114,
      "metadata": {
        "colab": {
          "base_uri": "https://localhost:8080/"
        },
        "id": "NziucDl6yuoW",
        "outputId": "88d902cf-778c-4f4c-977b-2a157c949662"
      },
      "outputs": [
        {
          "output_type": "execute_result",
          "data": {
            "text/plain": [
              "<torch._C.Generator at 0x7f56051e9db0>"
            ]
          },
          "metadata": {},
          "execution_count": 114
        }
      ],
      "source": [
        "import torch\n",
        "import torch.nn as nn\n",
        "import torch.optim as optim\n",
        "import numpy as np\n",
        "import matplotlib.pyplot as plt\n",
        "torch.manual_seed(2)"
      ]
    },
    {
      "cell_type": "markdown",
      "metadata": {
        "id": "CgYNy37VIn00"
      },
      "source": [
        "DATA (input and output for this supervised learning problem)"
      ]
    },
    {
      "cell_type": "code",
      "execution_count": 115,
      "metadata": {
        "id": "rXjDBsiOy8lV"
      },
      "outputs": [],
      "source": [
        "X = torch.Tensor([[0,0],[0,1], [1,0], [1,1]])\n",
        "Y = torch.Tensor([0,1,1,0]).view(-1,1)"
      ]
    },
    {
      "cell_type": "markdown",
      "metadata": {
        "id": "-uuARj4AyHot"
      },
      "source": [
        "HYPOTHESIS/MODEL"
      ]
    },
    {
      "cell_type": "code",
      "execution_count": 116,
      "metadata": {
        "id": "Qwl3sHRnzDQQ"
      },
      "outputs": [],
      "source": [
        "class XOR(nn.Module):\n",
        "    def __init__(self, input_dim = 2, output_dim=1):\n",
        "        # Initialize attributes and methods of the parent class nn.Module\n",
        "        super(XOR, self).__init__()\n",
        "\n",
        "        # Initialize layers\n",
        "        self.lin1 = nn.Linear(input_dim, 2)\n",
        "        self.lin2 = nn.Linear(2, output_dim)\n",
        "\n",
        "    # Each custom torch class (inherited from nn.Module) has to have a forward() method\n",
        "    def forward(self, x):\n",
        "        x = self.lin1(x)\n",
        "        x = torch.sigmoid(x)\n",
        "        x = self.lin2(x)\n",
        "        return x"
      ]
    },
    {
      "cell_type": "code",
      "execution_count": 117,
      "metadata": {
        "id": "IXcZnxYRzJ58"
      },
      "outputs": [],
      "source": [
        "model = XOR()"
      ]
    },
    {
      "cell_type": "code",
      "execution_count": 118,
      "metadata": {
        "id": "lIgvHHsszLo1"
      },
      "outputs": [],
      "source": [
        "# Initialize the weights manually (to integers)\n",
        "model.lin1.weight.data = torch.Tensor([[1, -1], [-1, 1]])\n",
        "model.lin1.bias.data = torch.Tensor([2, 2])\n",
        "model.lin2.weight.data = torch.Tensor([1, -1]).reshape((1, 2))\n",
        "model.lin2.bias.data = torch.Tensor([2])"
      ]
    },
    {
      "cell_type": "code",
      "source": [
        "model_params = list(model.named_parameters())\n",
        "print(model_params)"
      ],
      "metadata": {
        "id": "dcXLHlc3L--r",
        "outputId": "62d0f7d5-ea86-4f0e-92d2-f20da392dada",
        "colab": {
          "base_uri": "https://localhost:8080/"
        }
      },
      "execution_count": 119,
      "outputs": [
        {
          "output_type": "stream",
          "name": "stdout",
          "text": [
            "[('lin1.weight', Parameter containing:\n",
            "tensor([[ 1., -1.],\n",
            "        [-1.,  1.]], requires_grad=True)), ('lin1.bias', Parameter containing:\n",
            "tensor([2., 2.], requires_grad=True)), ('lin2.weight', Parameter containing:\n",
            "tensor([[ 1., -1.]], requires_grad=True)), ('lin2.bias', Parameter containing:\n",
            "tensor([2.], requires_grad=True))]\n"
          ]
        }
      ]
    },
    {
      "cell_type": "markdown",
      "metadata": {
        "id": "nkeust3zyYwU"
      },
      "source": [
        "COST or LOSS FUNCTION"
      ]
    },
    {
      "cell_type": "code",
      "execution_count": 120,
      "metadata": {
        "id": "yqkxJx0CzPce"
      },
      "outputs": [],
      "source": [
        "loss_func = nn.MSELoss()"
      ]
    },
    {
      "cell_type": "markdown",
      "metadata": {
        "id": "uOl_E8OmycFd"
      },
      "source": [
        "UPDATE RULE"
      ]
    },
    {
      "cell_type": "code",
      "execution_count": 121,
      "metadata": {
        "id": "zC-ffgFPzTb5"
      },
      "outputs": [],
      "source": [
        "optimizer = optim.SGD(model.parameters(), lr=0.02, momentum=0.9) # Another popular optimizer is ADAM"
      ]
    },
    {
      "cell_type": "markdown",
      "metadata": {
        "id": "KAX8FpUMyg1-"
      },
      "source": [
        "SETTING IT ALL UP"
      ]
    },
    {
      "cell_type": "code",
      "execution_count": 122,
      "metadata": {
        "colab": {
          "base_uri": "https://localhost:8080/"
        },
        "id": "wB8zkbQEzXyo",
        "outputId": "e533dc5f-5ee5-48b0-f9fc-b822c57a3432"
      },
      "outputs": [
        {
          "output_type": "stream",
          "name": "stdout",
          "text": [
            "First epoch gradients:\n",
            "--------------------\n",
            "\n",
            ">> Step 0:\n",
            "Parameters:\n",
            "[('lin1.weight', Parameter containing:\n",
            "tensor([[ 1., -1.],\n",
            "        [-1.,  1.]], requires_grad=True)), ('lin1.bias', Parameter containing:\n",
            "tensor([1.9916, 2.0084], requires_grad=True)), ('lin2.weight', Parameter containing:\n",
            "tensor([[ 0.9295, -1.0705]], requires_grad=True)), ('lin2.bias', Parameter containing:\n",
            "tensor([1.9200], requires_grad=True))]\n",
            "\n",
            "\n",
            "grad(lin2.weight): tensor([[3.5232, 3.5232]])\n",
            "grad(lin2.bias): tensor([4.])\n",
            "grad(lin1.weight): tensor([[0., 0.],\n",
            "        [-0., -0.]])\n",
            "grad(lin1.bias): tensor([ 0.4200, -0.4200])\n",
            "\n",
            "\n",
            ">> Step 1:\n",
            "Parameters:\n",
            "[('lin1.weight', Parameter containing:\n",
            "tensor([[ 1.0000, -1.0042],\n",
            "        [-1.0000,  1.0011]], requires_grad=True)), ('lin1.bias', Parameter containing:\n",
            "tensor([1.9798, 2.0171], requires_grad=True)), ('lin2.weight', Parameter containing:\n",
            "tensor([[ 0.8493, -1.1559]], requires_grad=True)), ('lin2.bias', Parameter containing:\n",
            "tensor([1.8249], requires_grad=True))]\n",
            "\n",
            "\n",
            "grad(lin2.weight): tensor([[0.8431, 1.1014]])\n",
            "grad(lin2.bias): tensor([1.1558])\n",
            "grad(lin1.weight): tensor([[ 0.0000,  0.2121],\n",
            "        [-0.0000, -0.0555]])\n",
            "grad(lin1.bias): tensor([ 0.2121, -0.0555])\n",
            "\n",
            "\n",
            ">> Step 2:\n",
            "Parameters:\n",
            "[('lin1.weight', Parameter containing:\n",
            "tensor([[ 0.9988, -1.0081],\n",
            "        [-0.9929,  1.0021]], requires_grad=True)), ('lin1.bias', Parameter containing:\n",
            "tensor([1.9680, 2.0319], requires_grad=True)), ('lin2.weight', Parameter containing:\n",
            "tensor([[ 0.7472, -1.2558]], requires_grad=True)), ('lin2.bias', Parameter containing:\n",
            "tensor([1.7079], requires_grad=True))]\n",
            "\n",
            "\n",
            "grad(lin2.weight): tensor([[1.4925, 1.1518]])\n",
            "grad(lin2.bias): tensor([1.5684])\n",
            "grad(lin1.weight): tensor([[ 0.0613,  0.0000],\n",
            "        [-0.3536, -0.0000]])\n",
            "grad(lin1.bias): tensor([ 0.0613, -0.3536])\n",
            "\n",
            "\n",
            ">> Step 3:\n",
            "Parameters:\n",
            "[('lin1.weight', Parameter containing:\n",
            "tensor([[ 0.9936, -1.0155],\n",
            "        [-0.9802,  1.0094]], requires_grad=True)), ('lin1.bias', Parameter containing:\n",
            "tensor([1.9532, 2.0517], requires_grad=True)), ('lin2.weight', Parameter containing:\n",
            "tensor([[ 0.6114, -1.3901]], requires_grad=True)), ('lin2.bias', Parameter containing:\n",
            "tensor([1.5526], requires_grad=True))]\n",
            "\n",
            "\n",
            "grad(lin2.weight): tensor([[2.1931, 2.2148]])\n",
            "grad(lin2.bias): tensor([2.5025])\n",
            "grad(lin1.weight): tensor([[ 0.2025,  0.2025],\n",
            "        [-0.3197, -0.3197]])\n",
            "grad(lin1.bias): tensor([ 0.2025, -0.3197])\n",
            "\n",
            "\n",
            "\n",
            "Loss History:\n",
            "--------------------\n",
            "Epoch: 0, Loss: 1.565568208694458, \n",
            "Epoch: 500, Loss: 1.4210854715202004e-12, \n",
            "Epoch: 1000, Loss: 1.4210854715202004e-12, \n",
            "Epoch: 1500, Loss: 1.4210854715202004e-12, \n",
            "Epoch: 2000, Loss: 1.4210854715202004e-12, \n"
          ]
        }
      ],
      "source": [
        "# Note that X, model, loss function, and optimizer are all defined/selected now\n",
        "epochs = 2001\n",
        "steps = X.size(0)\n",
        "for i in range(epochs):\n",
        "\n",
        "    for j in range(steps):\n",
        "        # data_point = np.random.randint(X.size(0))\n",
        "\n",
        "        optimizer.zero_grad()  #resets all gradients to zero at the start of each epoch\n",
        "        y_hat = model(X[j])\n",
        "        loss = loss_func.forward(y_hat, Y[j]) # loss_func(y_hat, Y[data_point]) also works\n",
        "\n",
        "        loss.backward()\n",
        "        optimizer.step()\n",
        "\n",
        "        if i == 0:\n",
        "            if j == 0:\n",
        "                print(\"First epoch gradients:\\n--------------------\\n\")\n",
        "            print(f\">> Step {j}:\")\n",
        "            print(\"Parameters:\")\n",
        "            print(list(model.named_parameters()))\n",
        "            print(\"\\n\")\n",
        "            print(f\"grad(lin2.weight): {model.lin2.weight.grad}\")\n",
        "            print(f\"grad(lin2.bias): {model.lin2.bias.grad}\")\n",
        "            print(f\"grad(lin1.weight): {model.lin1.weight.grad}\")\n",
        "            print(f\"grad(lin1.bias): {model.lin1.bias.grad}\")\n",
        "            print(\"\\n\")\n",
        "\n",
        "            if j == steps - 1:\n",
        "                print(\"\\nLoss History:\")\n",
        "                print(\"--------------------\")\n",
        "\n",
        "    if i % 500 == 0:\n",
        "         print(\"Epoch: {0}, Loss: {1}, \".format(i, loss.data.numpy()))"
      ]
    },
    {
      "cell_type": "code",
      "execution_count": 124,
      "metadata": {
        "colab": {
          "base_uri": "https://localhost:8080/"
        },
        "id": "auCBHzWf136b",
        "outputId": "d7e0a0f7-fb72-4991-e221-3c2fbc920534"
      },
      "outputs": [
        {
          "output_type": "stream",
          "name": "stdout",
          "text": [
            "[('lin1.weight', Parameter containing:\n",
            "tensor([[ 2.6449, -2.6377],\n",
            "        [-2.9843,  2.9754]], requires_grad=True)), ('lin1.bias', Parameter containing:\n",
            "tensor([1.5630, 1.8630], requires_grad=True)), ('lin2.weight', Parameter containing:\n",
            "tensor([[-2.2301, -2.1836]], requires_grad=True)), ('lin2.bias', Parameter containing:\n",
            "tensor([3.7341], requires_grad=True))]\n"
          ]
        }
      ],
      "source": [
        "model_params = list(model.named_parameters())\n",
        "print(model_params)\n",
        "model_params = list(model.parameters()) # used to make below cell better"
      ]
    },
    {
      "cell_type": "markdown",
      "metadata": {
        "id": "mJxeG6aKy2Gc"
      },
      "source": [
        "USING THE INFO ABOVE, CAN YOU GET THE EQUATIONS OF THE LINES PLOTTED BELOW?"
      ]
    },
    {
      "cell_type": "code",
      "execution_count": 125,
      "metadata": {
        "colab": {
          "base_uri": "https://localhost:8080/",
          "height": 430
        },
        "id": "hdUTc_ji18WA",
        "outputId": "1fd7e18c-b7c6-4b85-da2a-2e428496eddf"
      },
      "outputs": [
        {
          "output_type": "display_data",
          "data": {
            "text/plain": [
              "<Figure size 640x480 with 1 Axes>"
            ],
            "image/png": "[encoded data removed]"
          },
          "metadata": {}
        }
      ],
      "source": [
        "model_weights = model_params[0].data.numpy()\n",
        "model_bias = model_params[1].data.numpy()\n",
        "\n",
        "plt.scatter(X.numpy()[[0,-1], 0], X.numpy()[[0, -1], 1], s=50)\n",
        "plt.scatter(X.numpy()[[1,2], 0], X.numpy()[[1, 2], 1], c='red', s=50)\n",
        "\n",
        "# weights(0,0) and (0,1) are in the (TO,FROM) format,\n",
        "# i.e., to neuron 0(or 1) from input 0(or 1). See Helpful Hints at end\n",
        "x_1_1 = np.arange(-0.1, 1.1, 0.1)\n",
        "x_2_1_hat = ((x_1_1 * model_weights[0,0]) + model_bias[0]) / (-model_weights[0,1])\n",
        "plt.plot(x_1_1, x_2_1_hat)\n",
        "\n",
        "x_1_2 = np.arange(-0.1, 1.1, 0.1)\n",
        "x_2_2_hat = ((x_1_2 * model_weights[1,0]) + model_bias[1]) / (-model_weights[1,1])\n",
        "plt.plot(x_1_2, x_2_2_hat)\n",
        "plt.legend([\"neuron_1\", \"neuron_2\"], loc=8)\n",
        "plt.show()  # Recall that the lines represent theta_T*X = 0"
      ]
    },
    {
      "cell_type": "markdown",
      "metadata": {
        "id": "LSvsUe1Ka5t9"
      },
      "source": [
        "HELPFUL TIPS\n",
        "\n",
        "Documentation - pytorch.org\n",
        "\n",
        "---\n",
        "\n",
        "\n",
        "```\n",
        "x = torch.tensor([[1, 2, 3], [4, 5, 6]])\n",
        "print(x[1][2])\n",
        ">>> tensor(6)\n",
        "```\n",
        "\n",
        "```\n",
        "x[0][1] = 8\n",
        "print(x)\n",
        ">>> tensor([[ 1,  8,  3],\n",
        "            [ 4,  5,  6]])\n",
        "```"
      ]
    }
  ],
  "metadata": {
    "colab": {
      "provenance": []
    },
    "gpuClass": "standard",
    "kernelspec": {
      "display_name": "NME",
      "language": "python",
      "name": "python3"
    },
    "language_info": {
      "codemirror_mode": {
        "name": "ipython",
        "version": 3
      },
      "file_extension": ".py",
      "mimetype": "text/x-python",
      "name": "python",
      "nbconvert_exporter": "python",
      "pygments_lexer": "ipython3",
      "version": "3.10.16"
    }
  },
  "nbformat": 4,
  "nbformat_minor": 0
}