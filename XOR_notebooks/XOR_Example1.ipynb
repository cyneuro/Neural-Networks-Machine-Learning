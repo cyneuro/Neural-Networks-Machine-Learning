{
  "cells": [
    {
      "cell_type": "markdown",
      "metadata": {
        "id": "rbg8dlM6KlMU"
      },
      "source": [
        "[![Open in Colab](https://colab.research.google.com/assets/colab-badge.svg)](https://colab.research.google.com/github/cyneuro/Neural-Networks-Machine-Learning/blob/master/XOR_notebooks/XOR_Example1.ipynb)"
      ]
    },
    {
      "cell_type": "markdown",
      "metadata": {
        "id": "LwgeRHVBB0gy"
      },
      "source": [
        "https://brilliant.org/wiki/backpropagation/"
      ]
    },
    {
      "cell_type": "markdown",
      "metadata": {
        "id": "FG41LtB1FuTt"
      },
      "source": [
        "Absolutely simplest back propagation example (version 2) https://www.youtube.com/watch?v=8d6jf7s6_Qs\n",
        "\n",
        "A worked example with more neurons - https://www.youtube.com/watch?v=n2L1J5JYgUk"
      ]
    },
    {
      "cell_type": "markdown",
      "metadata": {
        "id": "EvV5yiNUbCzm"
      },
      "source": [
        "EXAMPLE OF AN XOR NETWORK - 2 neurons (input) in layer 1 and 1 neuron (output) in layer 2\n",
        "See \"Helpful Tips\" at the end of the notebook"
      ]
    },
    {
      "cell_type": "code",
      "execution_count": 1,
      "metadata": {
        "colab": {
          "base_uri": "https://localhost:8080/"
        },
        "id": "NziucDl6yuoW",
        "outputId": "6d1ba05d-7ac7-44f3-dc4e-abdb902495ba"
      },
      "outputs": [
        {
          "output_type": "execute_result",
          "data": {
            "text/plain": [
              "<torch._C.Generator at 0x7c76dc461f70>"
            ]
          },
          "metadata": {},
          "execution_count": 1
        }
      ],
      "source": [
        "import torch\n",
        "import torch.nn as nn\n",
        "import torch.optim as optim\n",
        "import numpy as np\n",
        "import matplotlib.pyplot as plt\n",
        "torch.manual_seed(2)"
      ]
    },
    {
      "cell_type": "markdown",
      "metadata": {
        "id": "CgYNy37VIn00"
      },
      "source": [
        "DATA (input and output for this supervised learning problem)"
      ]
    },
    {
      "cell_type": "code",
      "execution_count": 2,
      "metadata": {
        "id": "rXjDBsiOy8lV"
      },
      "outputs": [],
      "source": [
        "X = torch.Tensor([[0,0],[0,1], [1,0], [1,1]])\n",
        "Y = torch.Tensor([0,1,1,0]).view(-1,1)"
      ]
    },
    {
      "cell_type": "markdown",
      "metadata": {
        "id": "-uuARj4AyHot"
      },
      "source": [
        "HYPOTHESIS/MODEL"
      ]
    },
    {
      "cell_type": "code",
      "execution_count": 3,
      "metadata": {
        "id": "Qwl3sHRnzDQQ"
      },
      "outputs": [],
      "source": [
        "class XOR(nn.Module):\n",
        "    def __init__(self, input_dim = 2, output_dim=1):\n",
        "        # Initialize attributes and methods of the parent class nn.Module\n",
        "        super(XOR, self).__init__()\n",
        "\n",
        "        # Initialize layers\n",
        "        self.lin1 = nn.Linear(input_dim, 2)\n",
        "        self.lin2 = nn.Linear(2, output_dim)\n",
        "\n",
        "    # Each custom torch class (inherited from nn.Module) has to have a forward() method\n",
        "    def forward(self, x):\n",
        "        x = self.lin1(x)\n",
        "        x = torch.sigmoid(x)\n",
        "        x = self.lin2(x)\n",
        "        return x"
      ]
    },
    {
      "cell_type": "code",
      "execution_count": 4,
      "metadata": {
        "id": "IXcZnxYRzJ58"
      },
      "outputs": [],
      "source": [
        "model = XOR()"
      ]
    },
    {
      "cell_type": "code",
      "execution_count": 5,
      "metadata": {
        "colab": {
          "base_uri": "https://localhost:8080/"
        },
        "id": "lIgvHHsszLo1",
        "outputId": "b854be25-14c9-448e-90db-e8a40d5f560a"
      },
      "outputs": [
        {
          "output_type": "stream",
          "name": "stdout",
          "text": [
            "[XOR(\n",
            "  (lin1): Linear(in_features=2, out_features=2, bias=True)\n",
            "  (lin2): Linear(in_features=2, out_features=1, bias=True)\n",
            "), Linear(in_features=2, out_features=2, bias=True), Linear(in_features=2, out_features=1, bias=True)]\n"
          ]
        }
      ],
      "source": [
        "def weights_init(model):\n",
        "    print(list(model.modules())) # network from above printed out\n",
        "    for m in model.modules():\n",
        "        if isinstance(m, nn.Linear):\n",
        "            # initialize the weight tensor, here we use a normal distribution\n",
        "            m.weight.data = torch.Tensor([[1, -1], [-1, 1]])\n",
        "            m.bias.data = torch.Tensor([2, 2])\n",
        "\n",
        "weights_init(model) # may not be needed but used to show the idea"
      ]
    },
    {
      "cell_type": "code",
      "source": [
        "model_params = list(model.named_parameters())\n",
        "print(model_params)"
      ],
      "metadata": {
        "id": "dcXLHlc3L--r",
        "outputId": "3b7b5f02-8d6b-4f0e-d4e8-82f880bcd798",
        "colab": {
          "base_uri": "https://localhost:8080/"
        }
      },
      "execution_count": 6,
      "outputs": [
        {
          "output_type": "stream",
          "name": "stdout",
          "text": [
            "[('lin1.weight', Parameter containing:\n",
            "tensor([[ 1., -1.],\n",
            "        [-1.,  1.]], requires_grad=True)), ('lin1.bias', Parameter containing:\n",
            "tensor([2., 2.], requires_grad=True)), ('lin2.weight', Parameter containing:\n",
            "tensor([[ 1., -1.],\n",
            "        [-1.,  1.]], requires_grad=True)), ('lin2.bias', Parameter containing:\n",
            "tensor([2., 2.], requires_grad=True))]\n"
          ]
        }
      ]
    },
    {
      "cell_type": "markdown",
      "metadata": {
        "id": "nkeust3zyYwU"
      },
      "source": [
        "COST or LOSS FUNCTION"
      ]
    },
    {
      "cell_type": "code",
      "execution_count": 7,
      "metadata": {
        "id": "yqkxJx0CzPce"
      },
      "outputs": [],
      "source": [
        "loss_func = nn.MSELoss()"
      ]
    },
    {
      "cell_type": "markdown",
      "metadata": {
        "id": "uOl_E8OmycFd"
      },
      "source": [
        "UPDATE RULE"
      ]
    },
    {
      "cell_type": "code",
      "execution_count": 8,
      "metadata": {
        "id": "zC-ffgFPzTb5"
      },
      "outputs": [],
      "source": [
        "optimizer = optim.SGD(model.parameters(), lr=0.02, momentum=0.9) # Another popular optimizer is ADAM"
      ]
    },
    {
      "cell_type": "markdown",
      "metadata": {
        "id": "KAX8FpUMyg1-"
      },
      "source": [
        "SETTING IT ALL UP"
      ]
    },
    {
      "cell_type": "code",
      "execution_count": 9,
      "metadata": {
        "colab": {
          "base_uri": "https://localhost:8080/"
        },
        "id": "wB8zkbQEzXyo",
        "outputId": "0e8c9b54-f7a5-4dd3-ccec-57711dcd77b5"
      },
      "outputs": [
        {
          "output_type": "stream",
          "name": "stderr",
          "text": [
            "/usr/local/lib/python3.11/dist-packages/torch/nn/modules/loss.py:610: UserWarning: Using a target size (torch.Size([1])) that is different to the input size (torch.Size([2])). This will likely lead to incorrect results due to broadcasting. Please ensure they have the same size.\n",
            "  return F.mse_loss(input, target, reduction=self.reduction)\n"
          ]
        },
        {
          "output_type": "stream",
          "name": "stdout",
          "text": [
            "First epoch gradients:\n",
            "--------------------\n",
            "\n",
            ">> Step 0:\n",
            "Parameters:\n",
            "[('lin1.weight', Parameter containing:\n",
            "tensor([[ 1., -1.],\n",
            "        [-1.,  1.]], requires_grad=True)), ('lin1.bias', Parameter containing:\n",
            "tensor([2., 2.], requires_grad=True)), ('lin2.weight', Parameter containing:\n",
            "tensor([[ 0.9648, -1.0352],\n",
            "        [-1.0352,  0.9648]], requires_grad=True)), ('lin2.bias', Parameter containing:\n",
            "tensor([1.9600, 1.9600], requires_grad=True))]\n",
            "\n",
            "\n",
            "grad(lin2.weight): tensor([[1.7616, 1.7616],\n",
            "        [1.7616, 1.7616]])\n",
            "grad(lin2.bias): tensor([2., 2.])\n",
            "grad(lin1.weight): tensor([[0., 0.],\n",
            "        [0., 0.]])\n",
            "grad(lin1.bias): tensor([0., 0.])\n",
            "\n",
            "\n",
            ">> Step 1:\n",
            "Parameters:\n",
            "[('lin1.weight', Parameter containing:\n",
            "tensor([[ 1.0000, -0.9980],\n",
            "        [-1.0000,  0.9997]], requires_grad=True)), ('lin1.bias', Parameter containing:\n",
            "tensor([2.0020, 1.9997], requires_grad=True)), ('lin2.weight', Parameter containing:\n",
            "tensor([[ 0.9231, -1.0799],\n",
            "        [-1.0833,  0.9117]], requires_grad=True)), ('lin2.bias', Parameter containing:\n",
            "tensor([1.9104, 1.9016], requires_grad=True))]\n",
            "\n",
            "\n",
            "grad(lin2.weight): tensor([[0.4965, 0.6470],\n",
            "        [0.8204, 1.0690]])\n",
            "grad(lin2.bias): tensor([0.6792, 1.1222])\n",
            "grad(lin1.weight): tensor([[-0.0000, -0.0996],\n",
            "        [ 0.0000,  0.0171]])\n",
            "grad(lin1.bias): tensor([-0.0996,  0.0171])\n",
            "\n",
            "\n",
            ">> Step 2:\n",
            "Parameters:\n",
            "[('lin1.weight', Parameter containing:\n",
            "tensor([[ 0.9997, -0.9962],\n",
            "        [-0.9977,  0.9993]], requires_grad=True)), ('lin1.bias', Parameter containing:\n",
            "tensor([2.0035, 2.0017], requires_grad=True)), ('lin2.weight', Parameter containing:\n",
            "tensor([[ 0.8666, -1.1347],\n",
            "        [-1.1369,  0.8561]], requires_grad=True)), ('lin2.bias', Parameter containing:\n",
            "tensor([1.8458, 1.8382], requires_grad=True))]\n",
            "\n",
            "\n",
            "grad(lin2.weight): tensor([[0.9531, 0.7313],\n",
            "        [0.5106, 0.3918]])\n",
            "grad(lin2.bias): tensor([1.0005, 0.5359])\n",
            "grad(lin1.weight): tensor([[ 0.0155,  0.0000],\n",
            "        [-0.1164, -0.0000]])\n",
            "grad(lin1.bias): tensor([ 0.0155, -0.1164])\n",
            "\n",
            "\n",
            ">> Step 3:\n",
            "Parameters:\n",
            "[('lin1.weight', Parameter containing:\n",
            "tensor([[ 1.0003, -0.9937],\n",
            "        [-0.9946,  1.0000]], requires_grad=True)), ('lin1.bias', Parameter containing:\n",
            "tensor([2.0057, 2.0045], requires_grad=True)), ('lin2.weight', Parameter containing:\n",
            "tensor([[ 0.7873, -1.2124],\n",
            "        [-1.2131,  0.7780]], requires_grad=True)), ('lin2.bias', Parameter containing:\n",
            "tensor([1.7554, 1.7494], requires_grad=True))]\n",
            "\n",
            "\n",
            "grad(lin2.weight): tensor([[1.4191, 1.4185],\n",
            "        [1.4020, 1.4014]])\n",
            "grad(lin2.bias): tensor([1.6099, 1.5904])\n",
            "grad(lin1.weight): tensor([[-0.0431, -0.0431],\n",
            "        [-0.0487, -0.0487]])\n",
            "grad(lin1.bias): tensor([-0.0431, -0.0487])\n",
            "\n",
            "\n",
            "\n",
            "Loss History:\n",
            "--------------------\n",
            "Epoch: 0, Loss: 2.5605108737945557, \n",
            "Epoch: 500, Loss: 3.687148364406312e-10, \n",
            "Epoch: 1000, Loss: 2.7853275241795927e-12, \n",
            "Epoch: 1500, Loss: 2.7853275241795927e-12, \n",
            "Epoch: 2000, Loss: 2.7853275241795927e-12, \n"
          ]
        }
      ],
      "source": [
        "# Note that X, model, loss function, and optimizer are all defined/selected now\n",
        "epochs = 2001\n",
        "steps = X.size(0)\n",
        "for i in range(epochs):\n",
        "\n",
        "    for j in range(steps):\n",
        "        # data_point = np.random.randint(X.size(0))\n",
        "\n",
        "        optimizer.zero_grad()  #resets all gradients to zero at the start of each epoch\n",
        "        y_hat = model(X[j])\n",
        "        loss = loss_func.forward(y_hat, Y[j]) # loss_func(y_hat, Y[data_point]) also works\n",
        "\n",
        "        loss.backward()\n",
        "        optimizer.step()\n",
        "\n",
        "        if i == 0:\n",
        "            if j == 0:\n",
        "                print(\"First epoch gradients:\\n--------------------\\n\")\n",
        "            print(f\">> Step {j}:\")\n",
        "            print(\"Parameters:\")\n",
        "            print(list(model.named_parameters()))\n",
        "            print(\"\\n\")\n",
        "            print(f\"grad(lin2.weight): {model.lin2.weight.grad}\")\n",
        "            print(f\"grad(lin2.bias): {model.lin2.bias.grad}\")\n",
        "            print(f\"grad(lin1.weight): {model.lin1.weight.grad}\")\n",
        "            print(f\"grad(lin1.bias): {model.lin1.bias.grad}\")\n",
        "            print(\"\\n\")\n",
        "\n",
        "            if j == steps - 1:\n",
        "                print(\"\\nLoss History:\")\n",
        "                print(\"--------------------\")\n",
        "\n",
        "    if i % 500 == 0:\n",
        "         print(\"Epoch: {0}, Loss: {1}, \".format(i, loss.data.numpy()))"
      ]
    },
    {
      "cell_type": "code",
      "execution_count": 10,
      "metadata": {
        "colab": {
          "base_uri": "https://localhost:8080/"
        },
        "id": "auCBHzWf136b",
        "outputId": "69f33d05-d6c4-4343-bc22-4aabeac179d8"
      },
      "outputs": [
        {
          "output_type": "stream",
          "name": "stdout",
          "text": [
            "[('lin1.weight', Parameter containing:\n",
            "tensor([[ 3.1713, -3.1709],\n",
            "        [-3.1715,  3.1710]], requires_grad=True)), ('lin1.bias', Parameter containing:\n",
            "tensor([1.8299, 1.8303], requires_grad=True)), ('lin2.weight', Parameter containing:\n",
            "tensor([[-1.9124, -1.9124],\n",
            "        [-1.9124, -1.9124]], requires_grad=True)), ('lin2.bias', Parameter containing:\n",
            "tensor([3.2961, 3.2961], requires_grad=True))]\n"
          ]
        }
      ],
      "source": [
        "model_params = list(model.named_parameters())\n",
        "print(model_params)\n",
        "model_params = list(model.parameters()) # used to make below cell better"
      ]
    },
    {
      "cell_type": "markdown",
      "metadata": {
        "id": "mJxeG6aKy2Gc"
      },
      "source": [
        "USING THE INFO ABOVE, CAN YOU GET THE EQUATIONS OF THE LINES PLOTTED BELOW?"
      ]
    },
    {
      "cell_type": "code",
      "execution_count": 11,
      "metadata": {
        "colab": {
          "base_uri": "https://localhost:8080/",
          "height": 430
        },
        "id": "hdUTc_ji18WA",
        "outputId": "49e6360e-b1c1-490c-a291-63056a1249f1"
      },
      "outputs": [
        {
          "output_type": "display_data",
          "data": {
            "text/plain": [
              "<Figure size 640x480 with 1 Axes>"
            ],
            "image/png": "[encoded data removed]"
          },
          "metadata": {}
        }
      ],
      "source": [
        "model_weights = model_params[0].data.numpy()\n",
        "model_bias = model_params[1].data.numpy()\n",
        "\n",
        "plt.scatter(X.numpy()[[0,-1], 0], X.numpy()[[0, -1], 1], s=50)\n",
        "plt.scatter(X.numpy()[[1,2], 0], X.numpy()[[1, 2], 1], c='red', s=50)\n",
        "\n",
        "# weights(0,0) and (0,1) are in the (TO,FROM) format,\n",
        "# i.e., to neuron 0(or 1) from input 0(or 1). See Helpful Hints at end\n",
        "x_1_1 = np.arange(-0.1, 1.1, 0.1)\n",
        "x_2_1_hat = ((x_1_1 * model_weights[0,0]) + model_bias[0]) / (-model_weights[0,1])\n",
        "plt.plot(x_1_1, x_2_1_hat)\n",
        "\n",
        "x_1_2 = np.arange(-0.1, 1.1, 0.1)\n",
        "x_2_2_hat = ((x_1_2 * model_weights[1,0]) + model_bias[1]) / (-model_weights[1,1])\n",
        "plt.plot(x_1_2, x_2_2_hat)\n",
        "plt.legend([\"neuron_1\", \"neuron_2\"], loc=8)\n",
        "plt.show()  # Recall that the lines represent theta_T*X = 0"
      ]
    },
    {
      "cell_type": "markdown",
      "metadata": {
        "id": "LSvsUe1Ka5t9"
      },
      "source": [
        "HELPFUL TIPS\n",
        "\n",
        "Documentation - pytorch.org\n",
        "\n",
        "---\n",
        "\n",
        "\n",
        "```\n",
        "x = torch.tensor([[1, 2, 3], [4, 5, 6]])\n",
        "print(x[1][2])\n",
        ">>> tensor(6)\n",
        "```\n",
        "\n",
        "```\n",
        "x[0][1] = 8\n",
        "print(x)\n",
        ">>> tensor([[ 1,  8,  3],\n",
        "            [ 4,  5,  6]])\n",
        "```"
      ]
    }
  ],
  "metadata": {
    "colab": {
      "provenance": []
    },
    "gpuClass": "standard",
    "kernelspec": {
      "display_name": "NME",
      "language": "python",
      "name": "python3"
    },
    "language_info": {
      "codemirror_mode": {
        "name": "ipython",
        "version": 3
      },
      "file_extension": ".py",
      "mimetype": "text/x-python",
      "name": "python",
      "nbconvert_exporter": "python",
      "pygments_lexer": "ipython3",
      "version": "3.10.16"
    }
  },
  "nbformat": 4,
  "nbformat_minor": 0
}