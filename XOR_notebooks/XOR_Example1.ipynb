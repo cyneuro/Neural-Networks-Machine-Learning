{
  "cells": [
    {
      "cell_type": "markdown",
      "metadata": {},
      "source": [
        "[![Open in Colab](https://colab.research.google.com/assets/colab-badge.svg)](https://colab.research.google.com/github/cyneuro/Neural-Networks-Machine-Learning/blob/master/XOR_notebooks/XOR_Example1.ipynb)"
      ]
    },
    {
      "cell_type": "markdown",
      "metadata": {
        "id": "LwgeRHVBB0gy"
      },
      "source": [
        "https://brilliant.org/wiki/backpropagation/"
      ]
    },
    {
      "cell_type": "markdown",
      "metadata": {
        "id": "FG41LtB1FuTt"
      },
      "source": [
        "Absolutely simplest back propagation example (version 2) https://www.youtube.com/watch?v=8d6jf7s6_Qs\n",
        "\n",
        "A worked example with more neurons - https://www.youtube.com/watch?v=n2L1J5JYgUk"
      ]
    },
    {
      "cell_type": "markdown",
      "metadata": {
        "id": "EvV5yiNUbCzm"
      },
      "source": [
        "EXAMPLE OF AN XOR NETWORK - 2 neurons (input) in layer 1 and 1 neuron (output) in layer 2\n",
        "See \"Helpful Tips\" at the end of the notebook"
      ]
    },
    {
      "cell_type": "code",
      "execution_count": 1,
      "metadata": {
        "colab": {
          "base_uri": "https://localhost:8080/"
        },
        "id": "NziucDl6yuoW",
        "outputId": "52c8c1ef-68de-4da0-a864-59688689be08"
      },
      "outputs": [
        {
          "data": {
            "text/plain": [
              "<torch._C.Generator at 0x7f2c18175e90>"
            ]
          },
          "execution_count": 1,
          "metadata": {},
          "output_type": "execute_result"
        }
      ],
      "source": [
        "import torch\n",
        "import torch.nn as nn\n",
        "import torch.optim as optim\n",
        "import numpy as np\n",
        "import matplotlib.pyplot as plt\n",
        "torch.manual_seed(2)"
      ]
    },
    {
      "cell_type": "markdown",
      "metadata": {
        "id": "CgYNy37VIn00"
      },
      "source": [
        "DATA (input and output for this supervised learning problem)"
      ]
    },
    {
      "cell_type": "code",
      "execution_count": 2,
      "metadata": {
        "id": "rXjDBsiOy8lV"
      },
      "outputs": [],
      "source": [
        "X = torch.Tensor([[0,0],[0,1], [1,0], [1,1]])\n",
        "Y = torch.Tensor([0,1,1,0]).view(-1,1)"
      ]
    },
    {
      "cell_type": "markdown",
      "metadata": {
        "id": "-uuARj4AyHot"
      },
      "source": [
        "HYPOTHESIS/MODEL"
      ]
    },
    {
      "cell_type": "code",
      "execution_count": 3,
      "metadata": {
        "id": "Qwl3sHRnzDQQ"
      },
      "outputs": [],
      "source": [
        "class XOR(nn.Module):\n",
        "    def __init__(self, input_dim = 2, output_dim=1):\n",
        "        # Initialize attributes and methods of the parent class nn.Module\n",
        "        super(XOR, self).__init__()\n",
        "\n",
        "        # Initialize layers\n",
        "        self.lin1 = nn.Linear(input_dim, 2)\n",
        "        self.lin2 = nn.Linear(2, output_dim)\n",
        "\n",
        "    # Each custom torch class (inherited from nn.Module) has to have a forward() method\n",
        "    def forward(self, x):\n",
        "        x = self.lin1(x)\n",
        "        x = torch.sigmoid(x)\n",
        "        x = self.lin2(x)\n",
        "        return x"
      ]
    },
    {
      "cell_type": "code",
      "execution_count": 4,
      "metadata": {
        "id": "IXcZnxYRzJ58"
      },
      "outputs": [],
      "source": [
        "model = XOR()"
      ]
    },
    {
      "cell_type": "code",
      "execution_count": 5,
      "metadata": {
        "colab": {
          "base_uri": "https://localhost:8080/"
        },
        "id": "lIgvHHsszLo1",
        "outputId": "7026b27f-8cd8-48ef-dd8a-e1488ef76543"
      },
      "outputs": [
        {
          "name": "stdout",
          "output_type": "stream",
          "text": [
            "[XOR(\n",
            "  (lin1): Linear(in_features=2, out_features=2, bias=True)\n",
            "  (lin2): Linear(in_features=2, out_features=1, bias=True)\n",
            "), Linear(in_features=2, out_features=2, bias=True), Linear(in_features=2, out_features=1, bias=True)]\n"
          ]
        }
      ],
      "source": [
        "def weights_init(model):\n",
        "    print(list(model.modules())) # network from above printed out\n",
        "    for m in model.modules():\n",
        "        if isinstance(m, nn.Linear):\n",
        "            # initialize the weight tensor, here we use a normal distribution\n",
        "            m.weight.data.normal_(0, 1)\n",
        "            m.bias.data.normal_(0, 1)\n",
        "\n",
        "weights_init(model) # may not be needed but used to show the idea"
      ]
    },
    {
      "cell_type": "markdown",
      "metadata": {
        "id": "nkeust3zyYwU"
      },
      "source": [
        "COST or LOSS FUNCTION"
      ]
    },
    {
      "cell_type": "code",
      "execution_count": 6,
      "metadata": {
        "id": "yqkxJx0CzPce"
      },
      "outputs": [],
      "source": [
        "loss_func = nn.MSELoss()"
      ]
    },
    {
      "cell_type": "markdown",
      "metadata": {
        "id": "uOl_E8OmycFd"
      },
      "source": [
        "UPDATE RULE"
      ]
    },
    {
      "cell_type": "code",
      "execution_count": 7,
      "metadata": {
        "id": "zC-ffgFPzTb5"
      },
      "outputs": [],
      "source": [
        "optimizer = optim.SGD(model.parameters(), lr=0.02, momentum=0.9) # Another popular optimizer is ADAM"
      ]
    },
    {
      "cell_type": "markdown",
      "metadata": {
        "id": "KAX8FpUMyg1-"
      },
      "source": [
        "SETTING IT ALL UP"
      ]
    },
    {
      "cell_type": "code",
      "execution_count": 8,
      "metadata": {
        "colab": {
          "base_uri": "https://localhost:8080/"
        },
        "id": "wB8zkbQEzXyo",
        "outputId": "66dfeaa6-d581-4671-ab25-796f67c0dddf"
      },
      "outputs": [
        {
          "name": "stdout",
          "output_type": "stream",
          "text": [
            "First epoch gradients:\n",
            "--------------------\n",
            "\n",
            ">> Step 0:\n",
            "grad(lin2.weight): tensor([[0.0648, 0.0844]])\n",
            "grad(lin2.bias): tensor([0.5400])\n",
            "grad(lin1.weight): tensor([[-0.0148, -0.0000],\n",
            "        [-0.1345, -0.0000]])\n",
            "grad(lin1.bias): tensor([-0.0148, -0.1345])\n",
            "\n",
            "\n",
            ">> Step 1:\n",
            "grad(lin2.weight): tensor([[0.0618, 0.0809]])\n",
            "grad(lin2.bias): tensor([0.5148])\n",
            "grad(lin1.weight): tensor([[-0.0141, -0.0000],\n",
            "        [-0.1288, -0.0000]])\n",
            "grad(lin1.bias): tensor([-0.0141, -0.1288])\n",
            "\n",
            "\n",
            ">> Step 2:\n",
            "grad(lin2.weight): tensor([[0.5229, 0.4267]])\n",
            "grad(lin2.bias): tensor([2.3143])\n",
            "grad(lin1.weight): tensor([[-0., -0.],\n",
            "        [-0., -0.]])\n",
            "grad(lin1.bias): tensor([-0.1062, -0.6587])\n",
            "\n",
            "\n",
            ">> Step 3:\n",
            "grad(lin2.weight): tensor([[-0.2722, -0.5120]])\n",
            "grad(lin2.bias): tensor([-1.0321])\n",
            "grad(lin1.weight): tensor([[0.0000, 0.0551],\n",
            "        [0.0000, 0.4912]])\n",
            "grad(lin1.bias): tensor([0.0551, 0.4912])\n",
            "\n",
            "\n",
            "\n",
            "Loss History:\n",
            "--------------------\n",
            "Epoch: 0, Loss: 0.2662941813468933, \n",
            "Epoch: 500, Loss: 3.552713678800501e-13, \n",
            "Epoch: 1000, Loss: 5.684341886080802e-14, \n",
            "Epoch: 1500, Loss: 5.684341886080802e-14, \n",
            "Epoch: 2000, Loss: 5.684341886080802e-14, \n"
          ]
        }
      ],
      "source": [
        "# Note that X, model, loss function, and optimizer are all defined/selected now\n",
        "epochs = 2001\n",
        "steps = X.size(0)\n",
        "for i in range(epochs):\n",
        "\n",
        "    for j in range(steps):\n",
        "        data_point = np.random.randint(X.size(0))\n",
        "\n",
        "        optimizer.zero_grad()  #resets all gradients to zero at the start of each epoch\n",
        "        y_hat = model(X[data_point])\n",
        "        loss = loss_func.forward(y_hat, Y[data_point]) # loss_func(y_hat, Y[data_point]) also works\n",
        "\n",
        "        loss.backward()\n",
        "        optimizer.step()\n",
        "\n",
        "        if i == 0:\n",
        "            if j == 0:\n",
        "                print(\"First epoch gradients:\\n--------------------\\n\")\n",
        "            print(f\">> Step {j}:\")\n",
        "            print(f\"grad(lin2.weight): {model.lin2.weight.grad}\")\n",
        "            print(f\"grad(lin2.bias): {model.lin2.bias.grad}\")\n",
        "            print(f\"grad(lin1.weight): {model.lin1.weight.grad}\")\n",
        "            print(f\"grad(lin1.bias): {model.lin1.bias.grad}\")\n",
        "            print(\"\\n\")\n",
        "\n",
        "            if j == steps - 1:\n",
        "                print(\"\\nLoss History:\")\n",
        "                print(\"--------------------\")\n",
        "\n",
        "    if i % 500 == 0:\n",
        "         print(\"Epoch: {0}, Loss: {1}, \".format(i, loss.data.numpy()))"
      ]
    },
    {
      "cell_type": "code",
      "execution_count": 9,
      "metadata": {
        "colab": {
          "base_uri": "https://localhost:8080/"
        },
        "id": "auCBHzWf136b",
        "outputId": "b1bfaf8f-fabf-4f8a-cc6c-430db0df1c8d"
      },
      "outputs": [
        {
          "name": "stdout",
          "output_type": "stream",
          "text": [
            "[('lin1.weight', Parameter containing:\n",
            "tensor([[-2.6929, -2.6884],\n",
            "        [ 2.0729,  2.0707]], requires_grad=True)), ('lin1.bias', Parameter containing:\n",
            "tensor([ 0.2007, -3.3773], requires_grad=True)), ('lin2.weight', Parameter containing:\n",
            "tensor([[-3.1015, -2.5989]], requires_grad=True)), ('lin2.bias', Parameter containing:\n",
            "tensor([1.7916], requires_grad=True))]\n"
          ]
        }
      ],
      "source": [
        "model_params = list(model.named_parameters())\n",
        "print(model_params)\n",
        "model_params = list(model.parameters()) # used to make below cell better"
      ]
    },
    {
      "cell_type": "markdown",
      "metadata": {
        "id": "mJxeG6aKy2Gc"
      },
      "source": [
        "USING THE INFO ABOVE, CAN YOU GET THE EQUATIONS OF THE LINES PLOTTED BELOW?"
      ]
    },
    {
      "cell_type": "code",
      "execution_count": 10,
      "metadata": {
        "colab": {
          "base_uri": "https://localhost:8080/",
          "height": 430
        },
        "id": "hdUTc_ji18WA",
        "outputId": "1e9d5b12-ba26-44a0-9e7b-f0c4e9df4a2b"
      },
      "outputs": [
        {
          "data": {
            "image/png": "[encoded data removed]",
            "text/plain": [
              "<Figure size 640x480 with 1 Axes>"
            ]
          },
          "metadata": {},
          "output_type": "display_data"
        }
      ],
      "source": [
        "model_weights = model_params[0].data.numpy()\n",
        "model_bias = model_params[1].data.numpy()\n",
        "\n",
        "plt.scatter(X.numpy()[[0,-1], 0], X.numpy()[[0, -1], 1], s=50)\n",
        "plt.scatter(X.numpy()[[1,2], 0], X.numpy()[[1, 2], 1], c='red', s=50)\n",
        "\n",
        "# weights(0,0) and (0,1) are in the (TO,FROM) format,\n",
        "# i.e., to neuron 0(or 1) from input 0(or 1). See Helpful Hints at end\n",
        "x_1_1 = np.arange(-0.1, 1.1, 0.1)\n",
        "x_2_1_hat = ((x_1_1 * model_weights[0,0]) + model_bias[0]) / (-model_weights[0,1])\n",
        "plt.plot(x_1_1, x_2_1_hat)\n",
        "\n",
        "x_1_2 = np.arange(-0.1, 1.1, 0.1)\n",
        "x_2_2_hat = ((x_1_2 * model_weights[1,0]) + model_bias[1]) / (-model_weights[1,1])\n",
        "plt.plot(x_1_2, x_2_2_hat)\n",
        "plt.legend([\"neuron_1\", \"neuron_2\"], loc=8)\n",
        "plt.show()  # Recall that the lines represent theta_T*X = 0"
      ]
    },
    {
      "cell_type": "markdown",
      "metadata": {
        "id": "LSvsUe1Ka5t9"
      },
      "source": [
        "HELPFUL TIPS\n",
        "\n",
        "Documentation - pytorch.org\n",
        "\n",
        "---\n",
        "\n",
        "\n",
        "```\n",
        "x = torch.tensor([[1, 2, 3], [4, 5, 6]])\n",
        "print(x[1][2])\n",
        ">>> tensor(6)\n",
        "```\n",
        "\n",
        "```\n",
        "x[0][1] = 8\n",
        "print(x)\n",
        ">>> tensor([[ 1,  8,  3],\n",
        "            [ 4,  5,  6]])\n",
        "```"
      ]
    }
  ],
  "metadata": {
    "colab": {
      "provenance": []
    },
    "gpuClass": "standard",
    "kernelspec": {
      "display_name": "NME",
      "language": "python",
      "name": "python3"
    },
    "language_info": {
      "codemirror_mode": {
        "name": "ipython",
        "version": 3
      },
      "file_extension": ".py",
      "mimetype": "text/x-python",
      "name": "python",
      "nbconvert_exporter": "python",
      "pygments_lexer": "ipython3",
      "version": "3.10.16"
    }
  },
  "nbformat": 4,
  "nbformat_minor": 0
}
