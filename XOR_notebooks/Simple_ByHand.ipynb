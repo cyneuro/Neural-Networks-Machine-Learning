{
  "cells": [
    {
      "cell_type": "markdown",
      "metadata": {
        "id": "MqRm-68F5tdx"
      },
      "source": [
        "<a target=\"_blank\" href=\"https://colab.research.google.com/github/nairsatish/4540/blob/master/XOR_PyTorch_ByHand.ipynb\">\n",
        "  <img src=\"https://colab.research.google.com/assets/colab-badge.svg\" alt=\"Open In Colab\"/>\n",
        "</a>"
      ]
    },
    {
      "cell_type": "code",
      "execution_count": null,
      "metadata": {
        "id": "TRlhixGM5td1"
      },
      "outputs": [
        {
          "name": "stdout",
          "output_type": "stream",
          "text": [
            "1 2 8 0.1 0.001 3.99904\n",
            "2 2 72 -24 3.4000000000000004 3.4000000000000004\n",
            "6.800000000000001 6.800000000000001 2.879999999999997 -4.799999999999997 3.88 3.88\n",
            "7.76 7.76 0.1152000000000002 -0.9600000000000009 3.976 3.976\n",
            "7.952 7.952 0.004608000000000008 -0.19200000000000017 3.9952 3.9952\n",
            "7.9904 7.9904 0.00018431999999999352 -0.038399999999999324 3.99904 3.99904\n",
            "7.99808 7.99808 7.3728000000011045e-06 -0.007680000000000575 3.999808 3.999808\n",
            "7.999616 7.999616 2.949120000005899e-07 -0.0015360000000015361 3.9999616 3.9999616\n"
          ]
        }
      ],
      "source": [
        "# Absolutely simplest back prop example: input x = 1,  Quess the weight that will give an output of y using a perceptron with linear or ReLU activation\n",
        "\n",
        "w_init, x, y, learn_rate, error_lim = 1, 2, 8, 0.1, 0.001\n",
        "w = w_init\n",
        "e=3\n",
        "print(w,x,y,learn_rate, error_lim, wnew)\n",
        "while (abs(e) > error_lim):\n",
        "    z = x*w\n",
        "    y_hat = z\n",
        "    Loss = 2*(y-y_hat)**2\n",
        "    dL_by_dw = -2*(y-y_hat)*x\n",
        "    wnew = w - learn_rate*dL_by_dw\n",
        "    e= abs(y-y_hat)\n",
        "    w = wnew\n",
        "    print(z, y_hat, Loss, dL_by_dw, wnew, w)\n"
      ]
    }
  ],
  "metadata": {
    "colab": {
      "provenance": []
    },
    "kernelspec": {
      "display_name": "bmtk",
      "language": "python",
      "name": "python3"
    },
    "language_info": {
      "codemirror_mode": {
        "name": "ipython",
        "version": 3
      },
      "file_extension": ".py",
      "mimetype": "text/x-python",
      "name": "python",
      "nbconvert_exporter": "python",
      "pygments_lexer": "ipython3",
      "version": "3.8.16"
    }
  },
  "nbformat": 4,
  "nbformat_minor": 0
}
