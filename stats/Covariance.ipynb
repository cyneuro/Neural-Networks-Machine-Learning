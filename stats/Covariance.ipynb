{
 "cells": [
  {
   "cell_type": "markdown",
   "metadata": {
    "collapsed": false,
    "pycharm": {
     "name": "#%% md\n"
    }
   },
   "source": [
    "## Covariance\n",
    "\n",
    "If you are not familiar with Random Variables and their properties (mean, standard deviation, variance, etc.) please have a look at [this notebook](https://colab.research.google.com/github/d2l-ai/d2l-en-colab/blob/master/chapter_appendix-mathematics-for-deep-learning/random-variables.ipynb)"
   ]
  },
  {
   "cell_type": "code",
   "execution_count": 25,
   "metadata": {
    "collapsed": false,
    "pycharm": {
     "name": "#%%\n"
    }
   },
   "outputs": [],
   "source": [
    "import numpy as np\n",
    "\n",
    "N = 50\n",
    "\n",
    "random_input_sequence_X = np.random.uniform(-5, 5, size=N)\n",
    "prob_X = np.tile(np.array([1/N]), reps=N)\n",
    "\n",
    "random_input_sequence_Y = np.random.uniform(-5, 5, size=N)\n",
    "prob_Y = np.tile(np.array([1/N]), reps=N)"
   ]
  },
  {
   "cell_type": "code",
   "execution_count": 26,
   "metadata": {
    "collapsed": false,
    "pycharm": {
     "name": "#%%\n"
    }
   },
   "outputs": [
    {
     "name": "stdout",
     "output_type": "stream",
     "text": [
      "Covarance of XY: 0.007686867944158133\n"
     ]
    }
   ],
   "source": [
    "def covariance(X: np.ndarray, Y: np.ndarray, prob_X: np.ndarray, prob_Y: np.ndarray) -> float:\n",
    "    joint_prob = prob_X * prob_Y\n",
    "\n",
    "    mean_x = np.mean(X)\n",
    "    mean_y = np.mean(Y)\n",
    "\n",
    "    cov_XY = 0\n",
    "\n",
    "    for i, x in enumerate(X):\n",
    "        cov_XY += ((x - mean_x) * (Y[i] - mean_y) * joint_prob[i])\n",
    "    return cov_XY\n",
    "\n",
    "print(\"Covarance of XY: {}\".format(covariance(random_input_sequence_X, random_input_sequence_Y, prob_X, prob_Y)))"
   ]
  },
  {
   "cell_type": "code",
   "execution_count": 7,
   "metadata": {
    "collapsed": false,
    "pycharm": {
     "name": "#%%\n"
    }
   },
   "outputs": [],
   "source": []
  }
 ],
 "metadata": {
  "kernelspec": {
   "display_name": "NME",
   "language": "python",
   "name": "python3"
  },
  "language_info": {
   "codemirror_mode": {
    "name": "ipython",
    "version": 2
   },
   "file_extension": ".py",
   "mimetype": "text/x-python",
   "name": "python",
   "nbconvert_exporter": "python",
   "pygments_lexer": "ipython2",
   "version": "3.10.16"
  }
 },
 "nbformat": 4,
 "nbformat_minor": 0
}
