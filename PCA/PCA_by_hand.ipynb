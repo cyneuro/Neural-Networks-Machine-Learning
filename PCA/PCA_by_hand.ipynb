{
 "cells": [
  {
   "cell_type": "markdown",
   "id": "395e9364",
   "metadata": {},
   "source": [
    "# PCA (Principal Component Analysis)\n",
    "\n",
    "PCA looks at the features that are the most representative of the data and ranks them.\n",
    "Then, you can use the ranking to get rid of the lowest ranking features as a feature reduction method.\n",
    "\n",
    "This Notebook takes 3 D data and reduces it into 2 D using PCA.\n",
    "A useful explanation with the same steps as this notebook can be found here:\n",
    "https://builtin.com/data-science/step-step-explanation-principal-component-analysis"
   ]
  },
  {
   "cell_type": "markdown",
   "id": "a7bac17d",
   "metadata": {},
   "source": [
    "## The Data"
   ]
  },
  {
   "cell_type": "code",
   "execution_count": 1,
   "id": "899e468a",
   "metadata": {},
   "outputs": [],
   "source": [
    "import numpy as np\n",
    "import torch\n",
    "import matplotlib.pyplot as plt"
   ]
  },
  {
   "cell_type": "code",
   "execution_count": 2,
   "id": "0a8000fa",
   "metadata": {},
   "outputs": [],
   "source": [
    "x = [2.5,0.5,2.2,1.9,3.1,2.3,2,1,1.5,1.1]\n",
    "y = [2.4,0.7,2.9,2.2,3,2.7,1.6,1.1,1.6,0.9]"
   ]
  },
  {
   "cell_type": "code",
   "execution_count": 3,
   "id": "e75cb32a",
   "metadata": {},
   "outputs": [
    {
     "data": {
      "image/png": "[encoded data removed]",
      "text/plain": [
       "<Figure size 432x288 with 1 Axes>"
      ]
     },
     "metadata": {
      "needs_background": "light"
     },
     "output_type": "display_data"
    }
   ],
   "source": [
    "def plot_data(x_values, y_values):\n",
    "    plt.scatter(x_values, y_values, label='data')\n",
    "    plt.show()\n",
    "    \n",
    "plot_data(x,y)\n",
    "\n",
    "def minmax(val_list):\n",
    "    min_val = min(val_list)\n",
    "    max_val = max(val_list)\n",
    "\n",
    "    return [min_val, max_val]\n",
    "\n",
    "xlim = minmax(x)\n",
    "ylim = minmax(y)\n"
   ]
  },
  {
   "cell_type": "markdown",
   "id": "00f50c1b",
   "metadata": {},
   "source": [
    "## Step 1: Standardization"
   ]
  },
  {
   "cell_type": "code",
   "execution_count": 4,
   "id": "17a21469",
   "metadata": {
    "scrolled": false
   },
   "outputs": [],
   "source": [
    "# Calculate the mean and standard deviation of each\n",
    "x_mean= np.mean(x)\n",
    "y_mean= np.mean(y)\n",
    "\n",
    "\n",
    "\n",
    "x_std= np.std(x)\n",
    "y_std= np.std(y)\n",
    "\n",
    "\n",
    "# Find the z value of each axis where z = x-x_mean. This is just the mean adjusted data.\n",
    "def z_fun(data, mean, std):\n",
    "    z_val = []\n",
    "    for i in data:\n",
    "        z_val.append((i-mean))\n",
    "    return z_val\n",
    "\n",
    "z_x = z_fun(x,x_mean,x_std)\n",
    "z_y = z_fun(y,y_mean,y_std)"
   ]
  },
  {
   "cell_type": "markdown",
   "id": "d4a02b9d",
   "metadata": {},
   "source": [
    "## Step 2: Covariance Calculation"
   ]
  },
  {
   "cell_type": "code",
   "execution_count": 5,
   "id": "9f6e8784",
   "metadata": {},
   "outputs": [
    {
     "name": "stdout",
     "output_type": "stream",
     "text": [
      "[[0.61655556 0.61544444]\n",
      " [0.61544444 0.71655556]]\n"
     ]
    }
   ],
   "source": [
    "# Lets combine our mean adjusted data into one matrix first\n",
    "z_final = np.vstack([z_x,z_y])\n",
    "\n",
    "# Find the covariance matrix of z_final\n",
    "covariance = np.cov(z_final)\n",
    "print(covariance)"
   ]
  },
  {
   "cell_type": "markdown",
   "id": "d2402d03",
   "metadata": {},
   "source": [
    "## Step 3: Eigenvectors and Eigenvalues"
   ]
  },
  {
   "cell_type": "code",
   "execution_count": 6,
   "id": "c7182fe0",
   "metadata": {},
   "outputs": [
    {
     "name": "stdout",
     "output_type": "stream",
     "text": [
      "[0.0490834  1.28402771]\n",
      "[[-0.73517866 -0.6778734 ]\n",
      " [ 0.6778734  -0.73517866]]\n"
     ]
    },
    {
     "data": {
      "image/png": "[encoded data removed]",
      "text/plain": [
       "<Figure size 432x288 with 1 Axes>"
      ]
     },
     "metadata": {
      "needs_background": "light"
     },
     "output_type": "display_data"
    }
   ],
   "source": [
    "# Get the eigenvalues and eigenvectors of the covariance matrix\n",
    "\n",
    "eig_val, eig_vec = np.linalg.eig(covariance)\n",
    "print(eig_val)\n",
    "print(eig_vec)\n",
    "\n",
    "# The vector with the highest eigenvalues are the highest ranked components. For this example, \n",
    "# the first vector is the highest.\n",
    "\n",
    "def span(x,y,rev=False):\n",
    "    sign = 1\n",
    "    if rev == True:\n",
    "        sign = -1\n",
    "    x_vals = []\n",
    "    y_vals = []\n",
    "    samples = np.arange(-50,50,1)\n",
    "    for i in samples:\n",
    "        x_vals.append(x*i*sign)\n",
    "        y_vals.append(y*i*sign)\n",
    "\n",
    "    return x_vals, y_vals\n",
    "\n",
    "x_vals1, y_vals1 = span(eig_vec[0][0],eig_vec[0][1])\n",
    "x_vals2, y_vals2 = span(eig_vec[1][0],eig_vec[1][1])\n",
    "\n",
    "# plot the principal component eigenvectors\n",
    "plt.scatter(x,y, label='data')\n",
    "plt.plot(x_vals1, y_vals1, 'r')\n",
    "plt.plot(x_vals2, y_vals2, 'g')\n",
    "\n",
    "plt.xlim([-2,5])\n",
    "plt.ylim([-2,5])\n",
    "plt.show()"
   ]
  },
  {
   "cell_type": "markdown",
   "id": "24f2f89a",
   "metadata": {},
   "source": [
    "## Step 4: Feature Vector\n",
    "The highest eigenvalue is the 2nd one so I select only the second vector in this example"
   ]
  },
  {
   "cell_type": "code",
   "execution_count": 10,
   "id": "1c5422ff",
   "metadata": {},
   "outputs": [
    {
     "name": "stdout",
     "output_type": "stream",
     "text": [
      "[ 0.1074951   0.00155202 -0.46345624 -0.1521932   0.07311195 -0.24863317\n",
      "  0.35670133  0.04641726  0.01776463  0.26124033]\n"
     ]
    }
   ],
   "source": [
    "# Get the 2nd eigenvector\n",
    "feat=eig_vec[1]\n",
    "\n",
    "# Matrix multiplication of the feature vector and the standardized data\n",
    "\n",
    "fin=np.matmul(feat, z_final)\n",
    "print(fin)"
   ]
  },
  {
   "cell_type": "markdown",
   "id": "5ab16a0e",
   "metadata": {},
   "source": [
    "This is our reduced data set along the first principal component. "
   ]
  },
  {
   "cell_type": "code",
   "execution_count": null,
   "id": "6d1446ce",
   "metadata": {},
   "outputs": [],
   "source": []
  }
 ],
 "metadata": {
  "kernelspec": {
   "display_name": "py36",
   "language": "python",
   "name": "py36"
  },
  "language_info": {
   "codemirror_mode": {
    "name": "ipython",
    "version": 3
   },
   "file_extension": ".py",
   "mimetype": "text/x-python",
   "name": "python",
   "nbconvert_exporter": "python",
   "pygments_lexer": "ipython3",
   "version": "3.6.13"
  }
 },
 "nbformat": 4,
 "nbformat_minor": 5
}
