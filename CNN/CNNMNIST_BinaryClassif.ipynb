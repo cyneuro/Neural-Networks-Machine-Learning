{
 "cells": [
  {
   "cell_type": "code",
   "execution_count": 6,
   "id": "7501f5d9",
   "metadata": {
    "pycharm": {
     "name": "#%%\n"
    }
   },
   "outputs": [],
   "source": [
    "RunningInCOLAB = 'google.colab' in str(get_ipython())\n",
    "\n",
    "if RunningInCOLAB:\n",
    "    !pip install torch, torchvision"
   ]
  },
  {
   "cell_type": "code",
   "execution_count": 7,
   "id": "436b45d6",
   "metadata": {
    "pycharm": {
     "name": "#%%\n"
    }
   },
   "outputs": [],
   "source": [
    "import torch\n",
    "import torch.nn as nn\n",
    "import torchvision\n",
    "from torchvision.transforms import ToTensor"
   ]
  },
  {
   "cell_type": "markdown",
   "id": "aa108e06",
   "metadata": {
    "pycharm": {
     "name": "#%% md\n"
    }
   },
   "source": [
    "## CNN Details\n",
    "\n",
    "The kernel/filter/weight matrix is a 5x5 matrix. Out channels corresponds to the number of created feature maps, and therefore impacts the number of kernels.\n",
    "\n",
    "MaxPool2D is a 2x2 sliding window taking the maximum value in that window.\n",
    "\n",
    "Since this is the MNIST dataset, each image is 28x28. If we take a batch size of 1, this means our structure is:\n",
    "\n",
    "Input (28x28) **->**\n",
    "&nbsp;&nbsp;&nbsp;&nbsp;&nbsp;&nbsp;Conv2D (16x28x28) **->** ReLU (16x28x28) **->** MaxPool2D (16x14x14) **->**\n",
    "&nbsp;&nbsp;&nbsp;&nbsp;&nbsp;&nbsp;Conv2D (32x14x14) **->** RelU (32x14x14) **->** MaxPool2D (32x7x7) **->**\n",
    "&nbsp;&nbsp;&nbsp;&nbsp;&nbsp;&nbsp;Flatten (1568x1) **->** FCN **->**\n",
    "Returned Output (10x1)"
   ]
  },
  {
   "cell_type": "code",
   "execution_count": 8,
   "id": "f7ee432c-e3cb-4b41-9d2e-126c475ae261",
   "metadata": {},
   "outputs": [],
   "source": [
    "#Derived from https://medium.com/@nutanbhogendrasharma/pytorch-convolutional-neural-network-with-mnist-dataset-4e8a4265e118\n",
    "\n",
    "class ExampleCNN(nn.Module):\n",
    "    def __init__(self):\n",
    "        super(ExampleCNN, self).__init__()\n",
    "        self.conv1 = nn.Conv2d(in_channels=1, out_channels=16, kernel_size=(5,5), stride=(1,1), padding=2)\n",
    "        self.activation = nn.ReLU()\n",
    "        self.pool2d = nn.MaxPool2d(kernel_size=2)\n",
    "        self.conv2 = nn.Conv2d(in_channels=16, out_channels=32, kernel_size=(5,5), stride=(1,1), padding=2)\n",
    "        self.fcn = nn.Linear(32 * 7 * 7, 10)\n",
    "        \n",
    "    def forward(self, x):\n",
    "        x = self.pool2d(self.activation(self.conv1(x)))\n",
    "        x = self.pool2d(self.activation(self.conv2(x)))\n",
    "        \n",
    "        x = x.view(x.size(0), -1)\n",
    "        \n",
    "        out = self.fcn(x)\n",
    "        return out"
   ]
  },
  {
   "cell_type": "code",
   "execution_count": 10,
   "id": "9fe06a3b-9d23-4a53-99f5-6ac33d827146",
   "metadata": {},
   "outputs": [],
   "source": [
    "from torch.utils.data import DataLoader\n",
    "\n",
    "\"\"\"\n",
    "Running in COLAB assumes you've not imported the entire repository and simply saves the data with the notebook\n",
    "\n",
    "Running in Jupyter Notebook assumes you have imported the entire repository and stores it in the data folder\n",
    "\"\"\"\n",
    "if RunningInCOLAB:\n",
    "    train_data = torchvision.datasets.MNIST('.', train=True, transform=ToTensor(), download=True)\n",
    "    test_data = torchvision.datasets.MNIST('.', train=False, transform=ToTensor(), download=True)\n",
    "else:\n",
    "    train_data = torchvision.datasets.MNIST('.', train=True, transform=ToTensor(), download=True)\n",
    "    test_data = torchvision.datasets.MNIST('.', train=False, transform=ToTensor(), download=True)\n",
    "batch_size = 124\n",
    "train_loader = DataLoader(train_data, batch_size=batch_size, shuffle=True)\n",
    "test_loader = DataLoader(test_data, batch_size=batch_size, shuffle=False)\n",
    "loaders = {'train' : train_loader, 'test' : test_loader}"
   ]
  },
  {
   "cell_type": "code",
   "execution_count": 11,
   "id": "987507e2-89bd-4a7f-81d5-916745046a61",
   "metadata": {},
   "outputs": [
    {
     "name": "stdout",
     "output_type": "stream",
     "text": [
      "Epoch [1/10], Step [100/484], Loss: 0.1208\n",
      "Epoch [1/10], Step [200/484], Loss: 0.1904\n",
      "Epoch [1/10], Step [300/484], Loss: 0.0673\n",
      "Epoch [1/10], Step [400/484], Loss: 0.0677\n",
      "Epoch [2/10], Step [100/484], Loss: 0.0251\n",
      "Epoch [2/10], Step [200/484], Loss: 0.1076\n",
      "Epoch [2/10], Step [300/484], Loss: 0.1294\n",
      "Epoch [2/10], Step [400/484], Loss: 0.0634\n",
      "Epoch [3/10], Step [100/484], Loss: 0.0132\n",
      "Epoch [3/10], Step [200/484], Loss: 0.0771\n",
      "Epoch [3/10], Step [300/484], Loss: 0.0373\n",
      "Epoch [3/10], Step [400/484], Loss: 0.0477\n",
      "Epoch [4/10], Step [100/484], Loss: 0.0536\n",
      "Epoch [4/10], Step [200/484], Loss: 0.0499\n",
      "Epoch [4/10], Step [300/484], Loss: 0.0119\n",
      "Epoch [4/10], Step [400/484], Loss: 0.0398\n",
      "Epoch [5/10], Step [100/484], Loss: 0.0262\n",
      "Epoch [5/10], Step [200/484], Loss: 0.0727\n",
      "Epoch [5/10], Step [300/484], Loss: 0.0447\n",
      "Epoch [5/10], Step [400/484], Loss: 0.0081\n",
      "Epoch [6/10], Step [100/484], Loss: 0.0146\n",
      "Epoch [6/10], Step [200/484], Loss: 0.0571\n",
      "Epoch [6/10], Step [300/484], Loss: 0.0233\n",
      "Epoch [6/10], Step [400/484], Loss: 0.0652\n",
      "Epoch [7/10], Step [100/484], Loss: 0.0413\n",
      "Epoch [7/10], Step [200/484], Loss: 0.0549\n",
      "Epoch [7/10], Step [300/484], Loss: 0.0485\n",
      "Epoch [7/10], Step [400/484], Loss: 0.0547\n",
      "Epoch [8/10], Step [100/484], Loss: 0.0504\n",
      "Epoch [8/10], Step [200/484], Loss: 0.0338\n",
      "Epoch [8/10], Step [300/484], Loss: 0.0112\n",
      "Epoch [8/10], Step [400/484], Loss: 0.0190\n",
      "Epoch [9/10], Step [100/484], Loss: 0.0860\n",
      "Epoch [9/10], Step [200/484], Loss: 0.0059\n",
      "Epoch [9/10], Step [300/484], Loss: 0.0359\n",
      "Epoch [9/10], Step [400/484], Loss: 0.0621\n",
      "Epoch [10/10], Step [100/484], Loss: 0.0014\n",
      "Epoch [10/10], Step [200/484], Loss: 0.0522\n",
      "Epoch [10/10], Step [300/484], Loss: 0.0612\n",
      "Epoch [10/10], Step [400/484], Loss: 0.0874\n"
     ]
    }
   ],
   "source": [
    "from torch.autograd import Variable\n",
    "from torch import optim\n",
    "\n",
    "cnn = ExampleCNN()\n",
    "\n",
    "\n",
    "num_epochs = 10\n",
    "\n",
    "loss_func = nn.CrossEntropyLoss()   \n",
    "optimizer = optim.Adam(cnn.parameters(), lr = 0.01)   \n",
    "\n",
    "def train(epochs, network, data_loaders):\n",
    "    \n",
    "    network.train()\n",
    "        \n",
    "    # Train the model\n",
    "    total_step = len(data_loaders['train'])\n",
    "        \n",
    "    for epoch in range(epochs):\n",
    "        for i, (x, y) in enumerate(data_loaders['train']):\n",
    "            \n",
    "            # gives batch data, normalize x when iterate train_loader\n",
    "            b_x = Variable(x)   # batch x\n",
    "            b_y = Variable(y)   # batch y\n",
    "            b_y[b_y <= 4] = 0\n",
    "            b_y[b_y > 4] = 1\n",
    "            output = network(b_x)\n",
    "            loss = loss_func(output, b_y)\n",
    "            \n",
    "            # clear gradients for this training step   \n",
    "            optimizer.zero_grad()           \n",
    "            \n",
    "            # backpropagation, compute gradients \n",
    "            loss.backward()                # apply gradients             \n",
    "            optimizer.step()                \n",
    "            \n",
    "            if (i+1) % 100 == 0:\n",
    "                print ('Epoch [{}/{}], Step [{}/{}], Loss: {:.4f}'\n",
    "                       .format(epoch + 1, epochs, i + 1, total_step, loss.item()))\n",
    "\n",
    "train(num_epochs, cnn, loaders)"
   ]
  },
  {
   "cell_type": "code",
   "execution_count": 12,
   "id": "ac145461-653a-41bb-bebc-2408724640f6",
   "metadata": {},
   "outputs": [
    {
     "name": "stdout",
     "output_type": "stream",
     "text": [
      "Test Accuracy of the model on the 10000 test images: 0.99\n"
     ]
    }
   ],
   "source": [
    "def test():\n",
    "    # Test the model\n",
    "    cnn.eval()    \n",
    "    \n",
    "    with torch.no_grad():\n",
    "        for x, y in loaders['test']:\n",
    "            y[y <= 4] = 0\n",
    "            y[y > 4] = 1\n",
    "            out = cnn(x)\n",
    "            y_prediction = torch.max(out, 1)[1].data.squeeze()\n",
    "            accuracy = (y_prediction == y).sum().item() / float(y.size(0))\n",
    "            pass\n",
    "        print('Test Accuracy of the model on the 10000 test images: %.2f' % accuracy)\n",
    "    \n",
    "    pass\n",
    "test()"
   ]
  },
  {
   "cell_type": "code",
   "execution_count": 23,
   "id": "776d1011-c7ca-4d8e-92dc-393480073f3b",
   "metadata": {},
   "outputs": [
    {
     "name": "stdout",
     "output_type": "stream",
     "text": [
      "Prediction number: [1 0 0 0 0 0 0 1 1 1]\n",
      "Actual number: [1 0 0 0 0 0 0 1 1 1]\n"
     ]
    }
   ],
   "source": [
    "sample = next(iter(loaders['test']))\n",
    "images, labels = sample\n",
    "actual_number = labels[:10].numpy()\n",
    "actual_number[actual_number <= 4] = 0\n",
    "actual_number[actual_number > 4] = 1\n",
    "test_output = cnn(images[:10])\n",
    "y_predictions = torch.max(test_output, 1)[1].data.numpy().squeeze()\n",
    "print(f'Prediction number: {y_predictions}')\n",
    "print(f'Actual number: {actual_number}')"
   ]
  },
  {
   "cell_type": "code",
   "execution_count": 18,
   "id": "85b681ed-aa09-49e6-b771-a2ffea08d52b",
   "metadata": {},
   "outputs": [
    {
     "name": "stdout",
     "output_type": "stream",
     "text": [
      "Parameter containing:\n",
      "tensor([[[[ 1.1113e-01,  4.5225e-02, -2.6437e-01, -9.1305e-01, -5.3406e-01],\n",
      "          [-1.2130e-01,  7.9213e-01,  2.8730e-01, -5.1500e-01, -3.0838e-01],\n",
      "          [-8.7722e-01,  3.2245e-01,  6.3385e-01, -6.5821e-01, -1.1273e+00],\n",
      "          [-5.8183e-01, -5.7810e-01, -4.8374e-01, -1.8812e-01, -6.1436e-01],\n",
      "          [-4.7838e-01, -6.4337e-01, -1.3166e+00, -1.0576e+00, -2.1987e-01]]],\n",
      "\n",
      "\n",
      "        [[[-1.2421e-01,  6.2497e-01,  4.2901e-01,  5.6625e-01, -2.0710e-02],\n",
      "          [-5.5692e-01,  4.8752e-01,  2.4453e-01, -2.0010e-01, -7.6382e-01],\n",
      "          [-1.3024e+00, -1.4579e+00, -1.3630e+00, -5.9469e-01, -3.3439e-01],\n",
      "          [ 1.8981e-01, -1.3982e-01,  1.6002e-01,  1.1439e-01, -1.8756e-01],\n",
      "          [ 3.6849e-01,  1.0606e-01, -8.3470e-02,  1.3238e-01,  2.7579e-01]]],\n",
      "\n",
      "\n",
      "        [[[-3.3443e-02, -8.0213e-02, -1.6463e-01,  6.1241e-02, -7.0506e-03],\n",
      "          [-2.4401e-01,  1.0467e-01, -1.4527e-01, -1.0474e-01,  1.3455e-01],\n",
      "          [-2.4684e-02, -8.5480e-02, -2.8151e-01,  8.4383e-02, -1.5284e-02],\n",
      "          [-1.5502e-01, -9.9120e-02, -4.6453e-02, -4.9896e-02, -1.1720e-01],\n",
      "          [-1.1553e-01, -9.9046e-02, -9.2253e-02, -2.9864e-02, -2.6994e-01]]],\n",
      "\n",
      "\n",
      "        [[[-6.7167e-02, -2.8784e-01, -1.0021e+00, -8.0658e-01, -4.1803e-01],\n",
      "          [-2.2809e-01, -2.7901e-03,  3.9799e-01, -7.7655e-01, -3.4941e-01],\n",
      "          [ 1.6224e-01,  3.5226e-01,  1.0013e-01, -7.1529e-01, -6.5417e-01],\n",
      "          [ 2.2006e-01,  3.5871e-01,  1.8834e-01, -4.9034e-01, -4.1056e-01],\n",
      "          [ 8.0398e-01,  1.5305e-01, -4.3144e-01, -9.3049e-01, -1.6920e-01]]],\n",
      "\n",
      "\n",
      "        [[[-4.4150e-02, -6.2884e-01, -8.8306e-02,  1.5592e-01,  6.4596e-01],\n",
      "          [ 1.2373e-01, -6.3910e-01, -1.5644e-01,  1.3344e-01,  3.3057e-01],\n",
      "          [-9.6092e-02, -1.1443e+00,  1.1387e-01, -1.1776e-01,  3.4894e-01],\n",
      "          [-2.2285e-01, -1.2487e+00,  4.9276e-01, -4.1632e-02,  1.9074e-01],\n",
      "          [ 3.1212e-01, -7.7064e-01, -8.7426e-01, -4.2136e-01,  2.7554e-01]]],\n",
      "\n",
      "\n",
      "        [[[-1.2525e+00, -4.0680e-01,  1.6169e-01,  3.0411e-01,  2.4935e-01],\n",
      "          [-5.7976e-01, -5.0230e-01, -3.7467e-01, -3.3543e-01, -3.1628e-01],\n",
      "          [-2.7657e-01, -4.1578e-01, -4.1206e-01, -1.3559e-02, -7.5421e-01],\n",
      "          [-3.0959e-01, -6.3903e-01, -6.2597e-01, -3.6713e-01, -2.9360e-01],\n",
      "          [-1.4617e-01,  4.0869e-02,  2.7568e-01, -3.2344e-01, -4.1414e-01]]],\n",
      "\n",
      "\n",
      "        [[[-2.0000e+00, -3.8854e-01, -5.6558e-01, -4.7861e-01, -2.4369e-01],\n",
      "          [-1.0401e-01,  4.1306e-02, -5.3602e-01, -4.8454e-01,  7.0143e-02],\n",
      "          [-3.5175e-01, -2.0699e-01, -5.1439e-01, -6.1941e-01,  2.6480e-01],\n",
      "          [ 3.1941e-01, -5.4531e-02, -5.0478e-01, -2.8016e-01,  1.7203e-01],\n",
      "          [ 4.3411e-01, -1.3903e-01, -4.2347e-01, -5.0973e-01, -7.7685e-02]]],\n",
      "\n",
      "\n",
      "        [[[-1.0346e+00, -7.3680e-01, -2.2691e-01, -2.1933e-01,  1.7414e-01],\n",
      "          [-4.0764e-01,  9.6774e-02,  1.5107e-01,  3.2355e-01,  5.9017e-01],\n",
      "          [-6.4109e-01, -6.9507e-01, -6.1001e-01,  1.5814e-01, -1.3443e-01],\n",
      "          [-4.2449e-01, -7.2637e-01, -7.7569e-01, -4.9449e-01, -7.7610e-01],\n",
      "          [ 2.6819e-01,  3.9827e-01, -5.2923e-01, -3.8662e-01, -7.3548e-02]]],\n",
      "\n",
      "\n",
      "        [[[-2.5440e-01,  4.1268e-01,  2.2138e-02, -9.0498e-01, -8.3389e-01],\n",
      "          [-1.4644e+00, -1.0365e+00, -6.0114e-01, -5.0398e-01, -4.2639e-01],\n",
      "          [ 9.0910e-02, -3.1888e-01, -2.7417e-01,  1.7975e-01,  4.3278e-01],\n",
      "          [ 1.1031e-01,  1.3808e-01, -1.4652e-01,  1.3313e-01,  1.4430e-01],\n",
      "          [ 3.0163e-01,  4.7944e-01,  9.8877e-02, -9.3519e-02, -4.5234e-01]]],\n",
      "\n",
      "\n",
      "        [[[-1.1233e+00,  1.4287e-01,  9.3282e-01, -2.3218e-02, -6.0170e-01],\n",
      "          [-3.7970e-01,  9.8596e-02,  2.4216e-01, -8.6993e-01, -6.3488e-01],\n",
      "          [-5.9242e-01, -8.2253e-02, -7.3530e-01, -6.8363e-01, -1.4143e-02],\n",
      "          [-4.6300e-01, -6.2042e-01, -7.5469e-01, -2.1771e-01,  1.9411e-01],\n",
      "          [-3.0648e-01, -4.4798e-01, -3.3098e-01, -1.2291e-01,  2.0564e-01]]],\n",
      "\n",
      "\n",
      "        [[[ 1.9587e-01,  2.9637e-01,  3.1510e-01, -1.0859e-01, -7.1655e-01],\n",
      "          [ 4.5372e-01,  9.9047e-02, -4.0207e-01, -6.6095e-01, -1.6492e-01],\n",
      "          [-7.7879e-02, -3.9753e-01, -7.2477e-01, -4.7690e-01,  4.4583e-01],\n",
      "          [-1.0806e+00, -7.6161e-01, -3.0383e-01,  1.4512e-01,  2.8391e-01],\n",
      "          [ 5.6190e-02,  3.6374e-01, -1.5860e-01, -6.9654e-01, -1.9497e-01]]],\n",
      "\n",
      "\n",
      "        [[[ 2.8090e-02, -1.3948e-01, -1.4783e-01, -3.0207e-01,  9.7095e-02],\n",
      "          [ 1.8240e-01,  1.8770e-01,  1.5382e-01, -3.9804e-01, -6.8424e-01],\n",
      "          [-8.6826e-02,  1.0136e-01,  3.7063e-01, -1.4437e-01, -4.6621e-01],\n",
      "          [-7.9193e-01,  1.6970e-01,  9.8560e-01, -3.1293e-01, -2.4088e-01],\n",
      "          [-1.1351e+00, -1.4210e-01,  6.7380e-01,  6.2062e-02,  6.1346e-02]]],\n",
      "\n",
      "\n",
      "        [[[ 5.1918e-02, -8.0941e-02, -7.0782e-02, -2.2734e-01, -1.7805e-01],\n",
      "          [ 1.2162e-02, -2.6430e-01, -2.7129e-01, -2.0275e-01, -1.3903e-01],\n",
      "          [-9.0365e-03, -2.0981e-01, -1.9874e-01,  5.4096e-02, -9.9815e-02],\n",
      "          [-2.5058e-01, -1.7797e-01,  1.1746e-01, -3.2182e-02, -1.1733e-01],\n",
      "          [-2.9187e-02, -2.6965e-01, -2.7666e-02, -6.4018e-02, -2.0198e-01]]],\n",
      "\n",
      "\n",
      "        [[[-5.3549e-02, -4.0841e-01, -3.1593e-01, -3.9059e-01, -6.9711e-01],\n",
      "          [ 4.5131e-01, -5.3286e-01, -8.2372e-01, -5.3650e-02, -3.7707e-01],\n",
      "          [ 1.3766e-01, -8.1458e-01, -3.0622e-01, -3.6876e-01,  9.5938e-02],\n",
      "          [-6.8643e-01, -8.1684e-01,  2.4828e-01,  1.8381e-01,  3.0321e-01],\n",
      "          [-1.5089e+00, -8.6811e-01, -1.1039e-01, -1.8201e-02,  4.2911e-01]]],\n",
      "\n",
      "\n",
      "        [[[ 3.5373e-01,  6.2492e-02,  9.1537e-02,  5.0307e-01,  4.3175e-01],\n",
      "          [ 5.4644e-02, -2.8048e-01, -2.4152e-01, -8.7497e-02,  2.5824e-01],\n",
      "          [-6.5040e-01, -3.5981e-01, -8.9616e-02, -3.7478e-01,  6.7017e-02],\n",
      "          [-1.1599e+00, -3.0994e-01, -7.9140e-01, -7.4045e-01, -8.3414e-01],\n",
      "          [-9.0481e-01,  3.5486e-01,  1.8489e-01, -1.2931e-01, -4.4174e-01]]],\n",
      "\n",
      "\n",
      "        [[[ 1.2336e-01, -2.9340e-01, -1.4042e-01, -1.9684e-01, -1.6005e-01],\n",
      "          [ 1.0740e-01, -2.3873e-01, -2.5621e-01, -1.5954e-01, -2.7369e-01],\n",
      "          [-1.5905e-02, -2.2135e-01,  5.7829e-02,  2.4083e-02, -2.0332e-01],\n",
      "          [-4.0336e-02, -2.6801e-01, -8.4646e-02, -6.6615e-02,  1.5910e-03],\n",
      "          [-2.6758e-01, -1.3244e-01, -4.4457e-03, -2.8436e-02, -2.5152e-01]]]],\n",
      "       requires_grad=True)\n"
     ]
    }
   ],
   "source": [
    "print(cnn.conv1.weight)"
   ]
  },
  {
   "cell_type": "code",
   "execution_count": 19,
   "id": "e93bbc4c-8e07-4e97-a4fc-c53cd2502e97",
   "metadata": {},
   "outputs": [
    {
     "data": {
      "image/png": "[encoded data removed]",
      "text/plain": [
       "<Figure size 640x480 with 1 Axes>"
      ]
     },
     "metadata": {},
     "output_type": "display_data"
    }
   ],
   "source": [
    "import matplotlib.pyplot as plt\n",
    "import numpy as np\n",
    "\n",
    "layer1_filter = 0\n",
    "\n",
    "plt.imshow(np.squeeze(cnn.conv1.weight.detach().numpy()[layer1_filter,:,:,:]), cmap='gray')\n",
    "plt.show()"
   ]
  },
  {
   "cell_type": "code",
   "execution_count": 20,
   "id": "4a6777dd-6525-49cb-957b-e7f1afb7a6ca",
   "metadata": {},
   "outputs": [
    {
     "data": {
      "image/png": "[encoded data removed]",
      "text/plain": [
       "<Figure size 640x480 with 1 Axes>"
      ]
     },
     "metadata": {},
     "output_type": "display_data"
    }
   ],
   "source": [
    "layer2_filter = 0\n",
    "\n",
    "plt.imshow(cnn.conv2.weight.detach().numpy()[layer2_filter, layer1_filter, :, :], cmap='gray')\n",
    "plt.show()"
   ]
  },
  {
   "cell_type": "code",
   "execution_count": null,
   "id": "be6a3340-7d57-47f4-a191-0c774eb72faa",
   "metadata": {},
   "outputs": [],
   "source": []
  },
  {
   "cell_type": "code",
   "execution_count": null,
   "id": "6f7d366e",
   "metadata": {},
   "outputs": [],
   "source": []
  }
 ],
 "metadata": {
  "kernelspec": {
   "display_name": "Python 3 (ipykernel)",
   "language": "python",
   "name": "python3"
  },
  "language_info": {
   "codemirror_mode": {
    "name": "ipython",
    "version": 3
   },
   "file_extension": ".py",
   "mimetype": "text/x-python",
   "name": "python",
   "nbconvert_exporter": "python",
   "pygments_lexer": "ipython3",
   "version": "3.8.13"
  }
 },
 "nbformat": 4,
 "nbformat_minor": 5
}
