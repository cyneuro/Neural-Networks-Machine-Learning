{
 "cells": [
  {
   "cell_type": "code",
   "execution_count": 1,
   "id": "7501f5d9",
   "metadata": {
    "pycharm": {
     "name": "#%%\n"
    }
   },
   "outputs": [],
   "source": [
    "RunningInCOLAB = 'google.colab' in str(get_ipython())\n",
    "\n",
    "if RunningInCOLAB:\n",
    "    !pip install torch, torchvision"
   ]
  },
  {
   "cell_type": "code",
   "execution_count": 2,
   "id": "436b45d6",
   "metadata": {
    "pycharm": {
     "name": "#%%\n"
    }
   },
   "outputs": [],
   "source": [
    "import torch\n",
    "import torch.nn as nn\n",
    "import torchvision\n",
    "from torchvision.transforms import ToTensor"
   ]
  },
  {
   "cell_type": "markdown",
   "id": "aa108e06",
   "metadata": {
    "pycharm": {
     "name": "#%% md\n"
    }
   },
   "source": [
    "## CNN Details\n",
    "\n",
    "The kernel/filter/weight matrix is a 5x5 matrix. Out channels corresponds to the number of created feature maps, and therefore impacts the number of kernels.\n",
    "\n",
    "MaxPool2D is a 2x2 sliding window taking the maximum value in that window.\n",
    "\n",
    "Since this is the MNIST dataset, each image is 28x28. If we take a batch size of 1, this means our structure is:\n",
    "\n",
    "Input (28x28) **->**\n",
    "&nbsp;&nbsp;&nbsp;&nbsp;&nbsp;&nbsp;Conv2D (16x28x28) **->** ReLU (16x28x28) **->** MaxPool2D (16x14x14) **->**\n",
    "&nbsp;&nbsp;&nbsp;&nbsp;&nbsp;&nbsp;Conv2D (32x14x14) **->** RelU (32x14x14) **->** MaxPool2D (32x7x7) **->**\n",
    "&nbsp;&nbsp;&nbsp;&nbsp;&nbsp;&nbsp;Flatten (1568x1) **->** FCN **->**\n",
    "Returned Output (10x1)"
   ]
  },
  {
   "cell_type": "code",
   "execution_count": 3,
   "id": "f7ee432c-e3cb-4b41-9d2e-126c475ae261",
   "metadata": {},
   "outputs": [],
   "source": [
    "#Derived from https://medium.com/@nutanbhogendrasharma/pytorch-convolutional-neural-network-with-mnist-dataset-4e8a4265e118\n",
    "\n",
    "class ExampleCNN(nn.Module):\n",
    "    def __init__(self):\n",
    "        super(ExampleCNN, self).__init__()\n",
    "        self.conv1 = nn.Conv2d(in_channels=1, out_channels=16, kernel_size=(5,5), stride=(1,1), padding=2)\n",
    "        self.activation = nn.ReLU()\n",
    "        self.pool2d = nn.MaxPool2d(kernel_size=2)\n",
    "        self.conv2 = nn.Conv2d(in_channels=16, out_channels=32, kernel_size=(5,5), stride=(1,1), padding=2)\n",
    "        self.fcn = nn.Linear(32 * 7 * 7, 10)\n",
    "        \n",
    "    def forward(self, x):\n",
    "        x = self.pool2d(self.activation(self.conv1(x)))\n",
    "        x = self.pool2d(self.activation(self.conv2(x)))\n",
    "        \n",
    "        x = x.view(x.size(0), -1)\n",
    "        \n",
    "        out = self.fcn(x)\n",
    "        return out"
   ]
  },
  {
   "cell_type": "code",
   "execution_count": 4,
   "id": "9fe06a3b-9d23-4a53-99f5-6ac33d827146",
   "metadata": {},
   "outputs": [
    {
     "name": "stdout",
     "output_type": "stream",
     "text": [
      "Downloading http://yann.lecun.com/exdb/mnist/train-images-idx3-ubyte.gz\n",
      "Failed to download (trying next):\n",
      "HTTP Error 403: Forbidden\n",
      "\n",
      "Downloading https://ossci-datasets.s3.amazonaws.com/mnist/train-images-idx3-ubyte.gz\n",
      "Downloading https://ossci-datasets.s3.amazonaws.com/mnist/train-images-idx3-ubyte.gz to ../../data/MNIST/raw/train-images-idx3-ubyte.gz\n"
     ]
    },
    {
     "name": "stderr",
     "output_type": "stream",
     "text": [
      "100%|██████████| 9.91M/9.91M [00:00<00:00, 31.6MB/s]\n"
     ]
    },
    {
     "name": "stdout",
     "output_type": "stream",
     "text": [
      "Extracting ../../data/MNIST/raw/train-images-idx3-ubyte.gz to ../../data/MNIST/raw\n",
      "\n",
      "Downloading http://yann.lecun.com/exdb/mnist/train-labels-idx1-ubyte.gz\n",
      "Failed to download (trying next):\n",
      "HTTP Error 403: Forbidden\n",
      "\n",
      "Downloading https://ossci-datasets.s3.amazonaws.com/mnist/train-labels-idx1-ubyte.gz\n",
      "Downloading https://ossci-datasets.s3.amazonaws.com/mnist/train-labels-idx1-ubyte.gz to ../../data/MNIST/raw/train-labels-idx1-ubyte.gz\n"
     ]
    },
    {
     "name": "stderr",
     "output_type": "stream",
     "text": [
      "100%|██████████| 28.9k/28.9k [00:00<00:00, 910kB/s]\n"
     ]
    },
    {
     "name": "stdout",
     "output_type": "stream",
     "text": [
      "Extracting ../../data/MNIST/raw/train-labels-idx1-ubyte.gz to ../../data/MNIST/raw\n",
      "\n",
      "Downloading http://yann.lecun.com/exdb/mnist/t10k-images-idx3-ubyte.gz\n",
      "Failed to download (trying next):\n",
      "HTTP Error 403: Forbidden\n",
      "\n",
      "Downloading https://ossci-datasets.s3.amazonaws.com/mnist/t10k-images-idx3-ubyte.gz\n",
      "Downloading https://ossci-datasets.s3.amazonaws.com/mnist/t10k-images-idx3-ubyte.gz to ../../data/MNIST/raw/t10k-images-idx3-ubyte.gz\n"
     ]
    },
    {
     "name": "stderr",
     "output_type": "stream",
     "text": [
      "100%|██████████| 1.65M/1.65M [00:00<00:00, 9.31MB/s]\n"
     ]
    },
    {
     "name": "stdout",
     "output_type": "stream",
     "text": [
      "Extracting ../../data/MNIST/raw/t10k-images-idx3-ubyte.gz to ../../data/MNIST/raw\n",
      "\n",
      "Downloading http://yann.lecun.com/exdb/mnist/t10k-labels-idx1-ubyte.gz\n",
      "Failed to download (trying next):\n",
      "HTTP Error 403: Forbidden\n",
      "\n",
      "Downloading https://ossci-datasets.s3.amazonaws.com/mnist/t10k-labels-idx1-ubyte.gz\n",
      "Downloading https://ossci-datasets.s3.amazonaws.com/mnist/t10k-labels-idx1-ubyte.gz to ../../data/MNIST/raw/t10k-labels-idx1-ubyte.gz\n"
     ]
    },
    {
     "name": "stderr",
     "output_type": "stream",
     "text": [
      "100%|██████████| 4.54k/4.54k [00:00<00:00, 2.83MB/s]"
     ]
    },
    {
     "name": "stdout",
     "output_type": "stream",
     "text": [
      "Extracting ../../data/MNIST/raw/t10k-labels-idx1-ubyte.gz to ../../data/MNIST/raw\n",
      "\n"
     ]
    },
    {
     "name": "stderr",
     "output_type": "stream",
     "text": [
      "\n"
     ]
    }
   ],
   "source": [
    "from torch.utils.data import DataLoader\n",
    "\n",
    "\"\"\"\n",
    "Running in COLAB assumes you've not imported the entire repository and simply saves the data with the notebook\n",
    "\n",
    "Running in Jupyter Notebook assumes you have imported the entire repository and stores it in the data folder\n",
    "\"\"\"\n",
    "if RunningInCOLAB:\n",
    "    train_data = torchvision.datasets.MNIST('data', train=True, transform=ToTensor(), download=True)\n",
    "    test_data = torchvision.datasets.MNIST('data', train=False, transform=ToTensor(), download=True)\n",
    "else:\n",
    "    train_data = torchvision.datasets.MNIST('../../data', train=True, transform=ToTensor(), download=True)\n",
    "    test_data = torchvision.datasets.MNIST('../../data', train=False, transform=ToTensor(), download=True)\n",
    "batch_size = 124\n",
    "train_loader = DataLoader(train_data, batch_size=batch_size, shuffle=True)\n",
    "test_loader = DataLoader(test_data, batch_size=batch_size, shuffle=False)\n",
    "loaders = {'train' : train_loader, 'test' : test_loader}"
   ]
  },
  {
   "cell_type": "code",
   "execution_count": 5,
   "id": "987507e2-89bd-4a7f-81d5-916745046a61",
   "metadata": {},
   "outputs": [
    {
     "name": "stdout",
     "output_type": "stream",
     "text": [
      "Epoch [1/10], Step [100/484], Loss: 0.1702\n",
      "Epoch [1/10], Step [200/484], Loss: 0.1562\n",
      "Epoch [1/10], Step [300/484], Loss: 0.1686\n",
      "Epoch [1/10], Step [400/484], Loss: 0.1110\n",
      "Epoch [2/10], Step [100/484], Loss: 0.0543\n",
      "Epoch [2/10], Step [200/484], Loss: 0.0750\n",
      "Epoch [2/10], Step [300/484], Loss: 0.1245\n",
      "Epoch [2/10], Step [400/484], Loss: 0.0256\n",
      "Epoch [3/10], Step [100/484], Loss: 0.0207\n",
      "Epoch [3/10], Step [200/484], Loss: 0.0813\n",
      "Epoch [3/10], Step [300/484], Loss: 0.0348\n",
      "Epoch [3/10], Step [400/484], Loss: 0.0517\n",
      "Epoch [4/10], Step [100/484], Loss: 0.0616\n",
      "Epoch [4/10], Step [200/484], Loss: 0.0348\n",
      "Epoch [4/10], Step [300/484], Loss: 0.1131\n",
      "Epoch [4/10], Step [400/484], Loss: 0.0295\n",
      "Epoch [5/10], Step [100/484], Loss: 0.0428\n",
      "Epoch [5/10], Step [200/484], Loss: 0.0843\n",
      "Epoch [5/10], Step [300/484], Loss: 0.1138\n",
      "Epoch [5/10], Step [400/484], Loss: 0.0231\n",
      "Epoch [6/10], Step [100/484], Loss: 0.0139\n",
      "Epoch [6/10], Step [200/484], Loss: 0.0107\n",
      "Epoch [6/10], Step [300/484], Loss: 0.0322\n",
      "Epoch [6/10], Step [400/484], Loss: 0.0401\n",
      "Epoch [7/10], Step [100/484], Loss: 0.0733\n",
      "Epoch [7/10], Step [200/484], Loss: 0.0373\n",
      "Epoch [7/10], Step [300/484], Loss: 0.0865\n",
      "Epoch [7/10], Step [400/484], Loss: 0.0061\n",
      "Epoch [8/10], Step [100/484], Loss: 0.0571\n",
      "Epoch [8/10], Step [200/484], Loss: 0.1549\n",
      "Epoch [8/10], Step [300/484], Loss: 0.0582\n",
      "Epoch [8/10], Step [400/484], Loss: 0.1064\n",
      "Epoch [9/10], Step [100/484], Loss: 0.0143\n",
      "Epoch [9/10], Step [200/484], Loss: 0.0460\n",
      "Epoch [9/10], Step [300/484], Loss: 0.0262\n",
      "Epoch [9/10], Step [400/484], Loss: 0.1180\n",
      "Epoch [10/10], Step [100/484], Loss: 0.0071\n",
      "Epoch [10/10], Step [200/484], Loss: 0.0411\n",
      "Epoch [10/10], Step [300/484], Loss: 0.0204\n",
      "Epoch [10/10], Step [400/484], Loss: 0.0124\n"
     ]
    }
   ],
   "source": [
    "from torch.autograd import Variable\n",
    "from torch import optim\n",
    "\n",
    "cnn = ExampleCNN()\n",
    "\n",
    "\n",
    "num_epochs = 10\n",
    "\n",
    "loss_func = nn.CrossEntropyLoss()   \n",
    "optimizer = optim.Adam(cnn.parameters(), lr = 0.01)   \n",
    "\n",
    "def train(epochs, network, data_loaders):\n",
    "    \n",
    "    network.train()\n",
    "        \n",
    "    # Train the model\n",
    "    total_step = len(data_loaders['train'])\n",
    "        \n",
    "    for epoch in range(epochs):\n",
    "        for i, (x, y) in enumerate(data_loaders['train']):\n",
    "            \n",
    "            # gives batch data, normalize x when iterate train_loader\n",
    "            b_x = Variable(x)   # batch x\n",
    "            b_y = Variable(y)   # batch y\n",
    "            output = network(b_x)\n",
    "            loss = loss_func(output, b_y)\n",
    "            \n",
    "            # clear gradients for this training step   \n",
    "            optimizer.zero_grad()           \n",
    "            \n",
    "            # backpropagation, compute gradients \n",
    "            loss.backward()                # apply gradients             \n",
    "            optimizer.step()                \n",
    "            \n",
    "            if (i+1) % 100 == 0:\n",
    "                print ('Epoch [{}/{}], Step [{}/{}], Loss: {:.4f}'\n",
    "                       .format(epoch + 1, epochs, i + 1, total_step, loss.item()))\n",
    "                pass\n",
    "        pass\n",
    "    pass\n",
    "\n",
    "train(num_epochs, cnn, loaders)"
   ]
  },
  {
   "cell_type": "code",
   "execution_count": 6,
   "id": "ac145461-653a-41bb-bebc-2408724640f6",
   "metadata": {},
   "outputs": [
    {
     "name": "stdout",
     "output_type": "stream",
     "text": [
      "Test Accuracy of the model on the 10000 test images: 0.99\n"
     ]
    }
   ],
   "source": [
    "def test():\n",
    "    # Test the model\n",
    "    cnn.eval()    \n",
    "    \n",
    "    with torch.no_grad():\n",
    "        for x, y in loaders['test']:\n",
    "            out = cnn(x)\n",
    "            y_prediction = torch.max(out, 1)[1].data.squeeze()\n",
    "            accuracy = (y_prediction == y).sum().item() / float(y.size(0))\n",
    "            pass\n",
    "        print('Test Accuracy of the model on the 10000 test images: %.2f' % accuracy)\n",
    "    \n",
    "    pass\n",
    "test()"
   ]
  },
  {
   "cell_type": "code",
   "execution_count": 7,
   "id": "776d1011-c7ca-4d8e-92dc-393480073f3b",
   "metadata": {},
   "outputs": [
    {
     "name": "stdout",
     "output_type": "stream",
     "text": [
      "Prediction number: [7 2 1 0 4 1 4 9 5 9]\n",
      "Actual number: [7 2 1 0 4 1 4 9 5 9]\n"
     ]
    }
   ],
   "source": [
    "sample = next(iter(loaders['test']))\n",
    "images, labels = sample\n",
    "actual_number = labels[:10].numpy()\n",
    "test_output = cnn(images[:10])\n",
    "y_predictions = torch.max(test_output, 1)[1].data.numpy().squeeze()\n",
    "print(f'Prediction number: {y_predictions}')\n",
    "print(f'Actual number: {actual_number}')"
   ]
  },
  {
   "cell_type": "code",
   "execution_count": 8,
   "id": "85b681ed-aa09-49e6-b771-a2ffea08d52b",
   "metadata": {},
   "outputs": [
    {
     "name": "stdout",
     "output_type": "stream",
     "text": [
      "Parameter containing:\n",
      "tensor([[[[-3.7078e-01, -9.1243e-01, -4.1627e-01, -1.2117e-01, -1.2393e-01],\n",
      "          [ 8.9093e-02, -4.7490e-01, -4.0710e-01, -2.7999e-01,  4.1817e-01],\n",
      "          [ 3.1531e-01, -6.7657e-01, -1.2544e+00,  7.4360e-02,  3.3666e-01],\n",
      "          [ 2.9464e-01, -8.3057e-01, -6.2507e-01, -1.9314e-01,  2.3412e-01],\n",
      "          [ 5.0817e-01, -1.2243e-01, -8.3303e-01, -3.9962e-01,  5.4278e-01]]],\n",
      "\n",
      "\n",
      "        [[[-1.9943e-01,  1.2116e-02, -9.6695e-02, -2.3670e-02,  4.4038e-01],\n",
      "          [-5.0207e-01, -4.8832e-01, -7.1904e-01,  2.4574e-01,  4.1976e-01],\n",
      "          [-2.2089e-01, -1.0082e+00, -5.8622e-01, -2.8384e-01,  6.1079e-01],\n",
      "          [-3.4852e-01, -1.7457e-01, -6.3445e-01, -7.5160e-01,  1.5007e-01],\n",
      "          [ 3.2077e-01,  1.8390e-02, -2.5531e-01, -8.7731e-01, -6.0524e-01]]],\n",
      "\n",
      "\n",
      "        [[[ 6.3988e-01,  3.9553e-01,  3.9564e-01, -6.2053e-01, -1.1259e+00],\n",
      "          [-6.4491e-02,  1.7127e-01, -2.6044e-01, -1.4842e+00,  3.2261e-01],\n",
      "          [-2.3459e-01, -3.9564e-02, -5.5016e-01, -1.0052e+00, -2.0841e-01],\n",
      "          [-7.5255e-02, -9.8092e-01, -3.2702e-01,  2.4871e-02,  3.5569e-02],\n",
      "          [-1.1326e+00, -7.2189e-01,  1.5400e-01, -1.2911e-01,  3.3447e-01]]],\n",
      "\n",
      "\n",
      "        [[[-1.1552e+00, -4.3810e-01, -3.6677e-01,  6.8015e-02,  5.6460e-01],\n",
      "          [-3.7652e-01, -1.4577e-01,  5.0179e-01,  6.3813e-01, -3.6136e-01],\n",
      "          [-8.0903e-01, -4.3109e-01,  2.9735e-01,  3.3402e-01, -4.9582e-01],\n",
      "          [-7.2030e-01,  1.0098e-01,  5.4560e-02, -1.0875e-01, -6.9847e-01],\n",
      "          [-1.7219e+00, -2.3673e-01,  9.2161e-02,  2.2201e-01, -3.2483e-01]]],\n",
      "\n",
      "\n",
      "        [[[-5.5442e-01,  4.6959e-02, -2.4924e-01, -1.2205e-01,  3.3155e-01],\n",
      "          [ 1.2048e-01, -4.1634e-03, -2.0970e-01, -1.2294e-01,  5.4862e-01],\n",
      "          [ 3.2463e-01, -1.7097e-02,  2.7000e-01,  3.1010e-01,  1.0470e-01],\n",
      "          [ 3.0732e-01,  2.3928e-01,  5.6765e-01, -1.7695e-01, -1.5850e+00],\n",
      "          [-4.0488e-01, -5.8990e-02, -7.4407e-01, -9.0090e-01,  5.9967e-01]]],\n",
      "\n",
      "\n",
      "        [[[ 1.3937e-01, -1.3610e-01, -6.3199e-01, -8.6778e-01, -5.4991e-01],\n",
      "          [-5.8587e-02,  3.3009e-01,  1.6577e-01, -1.0785e-01,  2.0179e-01],\n",
      "          [ 8.6811e-02,  3.6467e-01,  9.7516e-01,  3.4652e-01,  8.6180e-02],\n",
      "          [-2.4797e-01, -2.2818e-01,  3.1986e-02,  6.7610e-02, -1.4707e-02],\n",
      "          [-1.9936e-02, -9.1078e-01, -3.2983e-01,  5.2139e-02,  1.3936e-01]]],\n",
      "\n",
      "\n",
      "        [[[-9.7359e-01,  3.2210e-01,  2.9129e-01,  3.2851e-01, -7.1121e-02],\n",
      "          [-1.8037e+00,  4.9759e-01,  5.1293e-01,  1.5623e-01, -9.3430e-01],\n",
      "          [-2.1385e+00, -1.0634e+00, -5.1026e-01, -1.3417e+00, -1.0452e+00],\n",
      "          [-6.0062e-01, -8.1097e-01, -9.8852e-01, -8.5713e-01, -1.1351e-01],\n",
      "          [ 1.0326e-01,  4.6427e-01,  2.4970e-01, -1.2743e-01,  5.7699e-01]]],\n",
      "\n",
      "\n",
      "        [[[ 5.7431e-01,  3.2187e-02, -9.1016e-02, -7.1418e-01, -3.4583e-01],\n",
      "          [ 7.4072e-02, -1.4450e-03,  9.7359e-02, -6.9358e-01, -2.5025e-03],\n",
      "          [ 1.0333e-01,  2.1958e-01,  1.9177e-01, -6.3275e-01, -1.3288e-01],\n",
      "          [ 3.1830e-01,  8.6800e-02, -4.3842e-01, -8.2427e-01, -4.4911e-02],\n",
      "          [ 1.1392e-01,  2.5736e-02, -7.4546e-01, -5.0320e-01,  4.0527e-01]]],\n",
      "\n",
      "\n",
      "        [[[ 3.2660e-01, -3.2831e-03, -2.8629e-01, -1.0148e-01, -1.2217e+00],\n",
      "          [ 3.6057e-01, -2.6886e-02, -8.1491e-01, -6.9443e-01,  4.6884e-01],\n",
      "          [ 4.9457e-01, -2.2318e-01, -1.0269e+00, -1.5933e+00, -7.3108e-01],\n",
      "          [ 2.1059e-01, -2.1104e+00, -2.5308e-01, -1.4889e-01, -8.2372e-01],\n",
      "          [-1.0692e+00, -9.5112e-02,  9.7711e-01,  1.1217e-01, -9.6977e-01]]],\n",
      "\n",
      "\n",
      "        [[[ 1.9878e-02,  4.9289e-03, -1.4322e-02,  3.9102e-01,  1.5143e-01],\n",
      "          [ 2.9492e-01, -5.1306e-01, -3.0841e-01, -4.3652e-01, -5.1003e-01],\n",
      "          [ 7.0302e-02,  3.7882e-01, -1.0450e-01, -2.4432e-01, -5.8572e-01],\n",
      "          [-1.4367e-01,  3.6076e-01,  6.4922e-01, -2.6121e-01, -7.8984e-01],\n",
      "          [-7.1905e-01, -4.2878e-01,  5.2379e-01,  6.0690e-01, -3.1169e-01]]],\n",
      "\n",
      "\n",
      "        [[[ 1.1311e-01,  1.3014e-01,  3.3435e-01,  3.9819e-01,  5.3710e-01],\n",
      "          [-2.2662e-01,  2.1850e-01, -2.1882e-01,  1.1654e-01, -4.1037e-01],\n",
      "          [-7.8334e-01, -5.2807e-02,  4.6731e-01,  4.5815e-02, -6.2160e-01],\n",
      "          [-1.5380e+00, -1.2508e+00, -1.0201e+00, -8.2846e-01, -1.7503e+00],\n",
      "          [ 1.8646e-01, -3.3107e-01, -2.8521e-01, -7.8139e-03,  3.8683e-01]]],\n",
      "\n",
      "\n",
      "        [[[ 2.9950e-02, -6.1777e-01, -4.9052e-01,  1.6056e-01, -1.4745e-01],\n",
      "          [ 1.5139e-01, -9.1351e-01, -5.0101e-01,  4.7858e-01, -5.9404e-01],\n",
      "          [-1.3073e-01, -8.0683e-01, -3.9530e-02,  5.1199e-01, -2.0877e-01],\n",
      "          [-2.8147e-01, -4.6773e-01, -3.4605e-01,  2.4264e-01, -2.0125e-01],\n",
      "          [-1.6699e-01, -4.2442e-01, -7.8251e-01, -3.8471e-02,  5.9309e-02]]],\n",
      "\n",
      "\n",
      "        [[[-3.6493e-01,  2.4872e-01,  1.5701e-01,  2.4920e-02,  3.1538e-01],\n",
      "          [ 9.6791e-02, -1.7718e-01, -1.2418e-02,  1.5652e-01,  3.1576e-01],\n",
      "          [-3.2163e-01, -3.0500e-01, -2.0768e-01,  1.5775e-01,  1.1179e-01],\n",
      "          [-3.7853e-01,  1.7386e-01,  7.9844e-02,  1.1885e-01,  1.1308e-01],\n",
      "          [-5.8497e-01,  1.0962e-01, -1.0847e-01, -5.2494e-04,  3.4149e-01]]],\n",
      "\n",
      "\n",
      "        [[[-1.2597e+00,  9.4959e-02, -3.9784e-01, -1.3774e+00, -6.2067e-01],\n",
      "          [ 3.0402e-01,  5.5123e-01, -2.4552e-01,  1.3123e-01, -5.6660e-01],\n",
      "          [ 7.6512e-01,  1.3101e-01, -2.1268e-01, -6.1646e-01, -5.4836e-01],\n",
      "          [ 4.7162e-02, -4.5537e-01, -6.9501e-01,  1.9440e-02, -3.1667e-01],\n",
      "          [-3.9672e-01, -9.6710e-01,  9.0458e-02, -3.2177e-01, -7.7419e-01]]],\n",
      "\n",
      "\n",
      "        [[[ 4.1953e-02,  7.0014e-02,  5.6675e-02,  4.7295e-02,  2.3916e-01],\n",
      "          [ 4.4764e-01,  4.2724e-01,  1.0352e-01, -7.9252e-02,  2.9562e-01],\n",
      "          [-5.6528e-01,  3.2660e-01,  9.9779e-02,  1.2130e-01,  2.1788e-01],\n",
      "          [-6.4173e-01, -4.9665e-01, -2.3676e-02,  2.4207e-01,  7.6936e-02],\n",
      "          [ 8.5342e-03, -5.5748e-01, -9.3341e-01, -9.6533e-01, -6.8680e-01]]],\n",
      "\n",
      "\n",
      "        [[[ 8.5486e-02,  3.8939e-01,  1.2175e-01, -2.0031e-01, -8.6453e-03],\n",
      "          [-1.1907e-02, -3.1336e-01, -6.5712e-01, -3.6968e-01,  2.1851e-01],\n",
      "          [ 1.6452e-01, -9.7764e-01, -4.0392e-01, -1.5009e-01,  4.5927e-01],\n",
      "          [-4.7397e-01, -4.4078e-01,  2.9906e-01,  7.0088e-01,  3.6993e-01],\n",
      "          [-1.0218e-01,  3.6575e-01,  2.0146e-01,  3.4995e-01, -7.9393e-01]]]],\n",
      "       requires_grad=True)\n"
     ]
    }
   ],
   "source": [
    "print(cnn.conv1.weight)"
   ]
  },
  {
   "cell_type": "code",
   "execution_count": 9,
   "id": "e93bbc4c-8e07-4e97-a4fc-c53cd2502e97",
   "metadata": {},
   "outputs": [
    {
     "data": {
      "image/png": "[encoded data removed]",
      "text/plain": [
       "<Figure size 640x480 with 1 Axes>"
      ]
     },
     "metadata": {},
     "output_type": "display_data"
    }
   ],
   "source": [
    "import matplotlib.pyplot as plt\n",
    "import numpy as np\n",
    "\n",
    "layer1_filter = 0\n",
    "\n",
    "plt.imshow(np.squeeze(cnn.conv1.weight.detach().numpy()[layer1_filter,:,:,:]), cmap='gray')\n",
    "plt.show()"
   ]
  },
  {
   "cell_type": "code",
   "execution_count": 10,
   "id": "4a6777dd-6525-49cb-957b-e7f1afb7a6ca",
   "metadata": {},
   "outputs": [
    {
     "data": {
      "image/png": "[encoded data removed]",
      "text/plain": [
       "<Figure size 640x480 with 1 Axes>"
      ]
     },
     "metadata": {},
     "output_type": "display_data"
    }
   ],
   "source": [
    "layer2_filter = 0\n",
    "\n",
    "plt.imshow(cnn.conv2.weight.detach().numpy()[layer2_filter, layer1_filter, :, :], cmap='gray')\n",
    "plt.show()"
   ]
  },
  {
   "cell_type": "code",
   "execution_count": 14,
   "id": "be6a3340-7d57-47f4-a191-0c774eb72faa",
   "metadata": {},
   "outputs": [],
   "source": []
  }
 ],
 "metadata": {
  "kernelspec": {
   "display_name": "NME",
   "language": "python",
   "name": "python3"
  },
  "language_info": {
   "codemirror_mode": {
    "name": "ipython",
    "version": 3
   },
   "file_extension": ".py",
   "mimetype": "text/x-python",
   "name": "python",
   "nbconvert_exporter": "python",
   "pygments_lexer": "ipython3",
   "version": "3.10.16"
  }
 },
 "nbformat": 4,
 "nbformat_minor": 5
}
